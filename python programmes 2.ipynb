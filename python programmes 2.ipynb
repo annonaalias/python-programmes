{
 "cells": [
  {
   "cell_type": "raw",
   "metadata": {},
   "source": [
    "import numpy as np"
   ]
  },
  {
   "cell_type": "raw",
   "metadata": {},
   "source": [
    "Python Program to Calculate the Average of Numbers in a Given List:"
   ]
  },
  {
   "cell_type": "markdown",
   "metadata": {},
   "source": [
    "https://www.freewebmentor.com/python-programs"
   ]
  },
  {
   "cell_type": "code",
   "execution_count": 3,
   "metadata": {},
   "outputs": [
    {
     "name": "stdout",
     "output_type": "stream",
     "text": [
      "enter the number of elements 4\n",
      "enter the number: 67\n",
      "enter the number: 78\n",
      "enter the number: 45\n",
      "enter the number: 90\n",
      "[67, 78, 45, 90]\n",
      "70.0\n"
     ]
    }
   ],
   "source": [
    "a=[]\n",
    "no=int(input('enter the number of elements '))\n",
    "for i in range(0,no):\n",
    "    j=int(input('enter the number: '))\n",
    "    a.append(j)\n",
    "print(a)\n",
    "print(np.mean(a))"
   ]
  },
  {
   "cell_type": "raw",
   "metadata": {},
   "source": [
    "Python Program to Exchange the Values of Two Numbers Without Using a Temporary Variable"
   ]
  },
  {
   "cell_type": "code",
   "execution_count": 3,
   "metadata": {},
   "outputs": [
    {
     "name": "stdout",
     "output_type": "stream",
     "text": [
      "first number 3\n",
      "second number 4\n",
      "4\n",
      "3\n"
     ]
    }
   ],
   "source": [
    "a=int(input('first number '))\n",
    "b=int(input('second number '))\n",
    "a,b=b,a\n",
    "print(a)\n",
    "print(b)\n"
   ]
  },
  {
   "cell_type": "raw",
   "metadata": {},
   "source": [
    " Python Program to Read a number n and Compute n+nn+nnn"
   ]
  },
  {
   "cell_type": "code",
   "execution_count": 7,
   "metadata": {},
   "outputs": [
    {
     "name": "stdout",
     "output_type": "stream",
     "text": [
      "enter the number u want 5\n",
      "55\n",
      "555\n"
     ]
    },
    {
     "data": {
      "text/plain": [
       "615"
      ]
     },
     "execution_count": 7,
     "metadata": {},
     "output_type": "execute_result"
    }
   ],
   "source": [
    "n=int(input('enter the number u want '))\n",
    "t=str(n)\n",
    "t1=t+t\n",
    "t2=t+t+t\n",
    "print(int(t1))\n",
    "print(int(t2))\n",
    "total=n+int(t1)+int(t2)\n",
    "total"
   ]
  },
  {
   "cell_type": "code",
   "execution_count": 1,
   "metadata": {},
   "outputs": [
    {
     "name": "stdout",
     "output_type": "stream",
     "text": [
      "enter the number:5\n",
      "55\n",
      "555\n"
     ]
    },
    {
     "ename": "TypeError",
     "evalue": "unsupported operand type(s) for +: 'int' and 'str'",
     "output_type": "error",
     "traceback": [
      "\u001b[1;31m---------------------------------------------------------------------------\u001b[0m",
      "\u001b[1;31mTypeError\u001b[0m                                 Traceback (most recent call last)",
      "\u001b[1;32m<ipython-input-1-e1e7741f7072>\u001b[0m in \u001b[0;36m<module>\u001b[1;34m\u001b[0m\n\u001b[0;32m      5\u001b[0m \u001b[0mprint\u001b[0m\u001b[1;33m(\u001b[0m\u001b[0mint\u001b[0m\u001b[1;33m(\u001b[0m\u001b[0mt1\u001b[0m\u001b[1;33m)\u001b[0m\u001b[1;33m)\u001b[0m\u001b[1;33m\u001b[0m\u001b[1;33m\u001b[0m\u001b[0m\n\u001b[0;32m      6\u001b[0m \u001b[0mprint\u001b[0m\u001b[1;33m(\u001b[0m\u001b[0mint\u001b[0m\u001b[1;33m(\u001b[0m\u001b[0mt2\u001b[0m\u001b[1;33m)\u001b[0m\u001b[1;33m)\u001b[0m\u001b[1;33m\u001b[0m\u001b[1;33m\u001b[0m\u001b[0m\n\u001b[1;32m----> 7\u001b[1;33m \u001b[0mprint\u001b[0m\u001b[1;33m(\u001b[0m\u001b[0mint\u001b[0m\u001b[1;33m(\u001b[0m\u001b[0mt\u001b[0m\u001b[1;33m)\u001b[0m\u001b[1;33m+\u001b[0m\u001b[1;33m(\u001b[0m\u001b[0mt1\u001b[0m\u001b[1;33m)\u001b[0m\u001b[1;33m+\u001b[0m\u001b[1;33m(\u001b[0m\u001b[0mt2\u001b[0m\u001b[1;33m)\u001b[0m\u001b[1;33m)\u001b[0m\u001b[1;33m\u001b[0m\u001b[1;33m\u001b[0m\u001b[0m\n\u001b[0m",
      "\u001b[1;31mTypeError\u001b[0m: unsupported operand type(s) for +: 'int' and 'str'"
     ]
    }
   ],
   "source": [
    "n=int(input('enter the number:'))\n",
    "t=str(n)\n",
    "t1=t+t\n",
    "t2=t+t+t\n",
    "print(int(t1))\n",
    "print(int(t2))\n",
    "print(int(t)+(t1)+(t2))\n",
    "#this wont work,"
   ]
  },
  {
   "cell_type": "code",
   "execution_count": 22,
   "metadata": {},
   "outputs": [
    {
     "name": "stdout",
     "output_type": "stream",
     "text": [
      "enter n times u want 3\n",
      "the the number 5\n",
      "5\n",
      "55\n",
      "555\n",
      "615\n"
     ]
    }
   ],
   "source": [
    "d=0\n",
    "n=int(input('enter n times u want '))\n",
    "f=input('the the number ')\n",
    "for i in range(1,n+1):\n",
    "    c=f*i\n",
    "    c=int(c)\n",
    "    d=d+c\n",
    "    print(c)\n",
    "print(d)"
   ]
  },
  {
   "cell_type": "code",
   "execution_count": 8,
   "metadata": {},
   "outputs": [
    {
     "name": "stdout",
     "output_type": "stream",
     "text": [
      "enter:23\n",
      "2\n",
      "3\n"
     ]
    }
   ],
   "source": [
    "f=input('enter:')\n",
    "print(f[0])\n",
    "print(f[1])"
   ]
  },
  {
   "cell_type": "raw",
   "metadata": {},
   "source": [
    "program to reverse a number:"
   ]
  },
  {
   "cell_type": "code",
   "execution_count": 9,
   "metadata": {},
   "outputs": [
    {
     "name": "stdout",
     "output_type": "stream",
     "text": [
      "number 65743\n",
      "34756\n"
     ]
    }
   ],
   "source": [
    "g=(input('number '))\n",
    "print(g[::-1])"
   ]
  },
  {
   "cell_type": "code",
   "execution_count": 15,
   "metadata": {},
   "outputs": [
    {
     "name": "stdout",
     "output_type": "stream",
     "text": [
      "Enter number: 645\n",
      "Reverse of the number: 546\n"
     ]
    }
   ],
   "source": [
    "n=int(input(\"Enter number: \"))\n",
    "rev=0\n",
    "while(n>0):\n",
    "    dig=n%10\n",
    "    rev=rev*10+dig\n",
    "    n=n//10\n",
    "print(\"Reverse of the number:\",rev)"
   ]
  },
  {
   "cell_type": "raw",
   "metadata": {},
   "source": [
    "1. User must first enter the value and store it in a variable n.\n",
    "2. The while loop is used and the last digit of the number is obtained by using the modulus operator.\n",
    "3. The last digit is then stored at the one’s place, second last at the ten’s place and so on.\n",
    "4. The last digit is then removed by truly dividing the number with 10.\n",
    "5. This loop terminates when the value of the number is 0.\n",
    "6. The reverse of the number is then printed."
   ]
  },
  {
   "cell_type": "code",
   "execution_count": 16,
   "metadata": {},
   "outputs": [
    {
     "data": {
      "text/plain": [
       "5"
      ]
     },
     "execution_count": 16,
     "metadata": {},
     "output_type": "execute_result"
    }
   ],
   "source": [
    "645%10"
   ]
  },
  {
   "cell_type": "code",
   "execution_count": 17,
   "metadata": {},
   "outputs": [
    {
     "data": {
      "text/plain": [
       "64"
      ]
     },
     "execution_count": 17,
     "metadata": {},
     "output_type": "execute_result"
    }
   ],
   "source": [
    "645//10"
   ]
  },
  {
   "cell_type": "code",
   "execution_count": 18,
   "metadata": {},
   "outputs": [
    {
     "name": "stdout",
     "output_type": "stream",
     "text": [
      "enter the number: 645\n",
      "Reverse the number:  546\n"
     ]
    }
   ],
   "source": [
    "n=int(input('enter the number: '))\n",
    "rev=0\n",
    "while n>0:\n",
    "    remain=n%10\n",
    "    rev=rev*10+remain\n",
    "    n=n//10\n",
    "print('Reverse the number: ',rev)\n",
    "    "
   ]
  },
  {
   "cell_type": "raw",
   "metadata": {},
   "source": [
    "Python Program to Take in the Marks of 5 Subjects and Display the Grade"
   ]
  },
  {
   "cell_type": "raw",
   "metadata": {},
   "source": [
    "1. Take in the marks of 5 subjects from the user and store it in different variables.\n",
    "2. Find the average of the marks.\n",
    "3. Use an else condition to decide the grade based on the average of the marks.\n",
    "4. Exit.\n",
    "\n"
   ]
  },
  {
   "cell_type": "code",
   "execution_count": 20,
   "metadata": {},
   "outputs": [
    {
     "name": "stdout",
     "output_type": "stream",
     "text": [
      "Enter marks of the first subject: 34\n",
      "Enter marks of the second subject: 45\n",
      "Enter marks of the third subject: 46\n",
      "Enter marks of the fourth subject: 47\n",
      "Enter marks of the fifth subject: 48\n",
      "Grade: F\n"
     ]
    }
   ],
   "source": [
    "sub1=int(input(\"Enter marks of the first subject: \"))\n",
    "sub2=int(input(\"Enter marks of the second subject: \"))\n",
    "sub3=int(input(\"Enter marks of the third subject: \"))\n",
    "sub4=int(input(\"Enter marks of the fourth subject: \"))\n",
    "sub5=int(input(\"Enter marks of the fifth subject: \"))\n",
    "avg=(sub1+sub2+sub3+sub4+sub4)/5\n",
    "if avg>=90:\n",
    "    print('Grade A')\n",
    "elif avg>=80 and avg<90:\n",
    "    print('Grade B')\n",
    "elif avg>=70 and avg<80:\n",
    "    print(\"Grade: C\")\n",
    "elif avg>=60 and avg<70:\n",
    "     print(\"Grade: D\")\n",
    "else:\n",
    "    print(\"Grade: F\")\n"
   ]
  },
  {
   "cell_type": "code",
   "execution_count": 1,
   "metadata": {},
   "outputs": [
    {
     "name": "stdout",
     "output_type": "stream",
     "text": [
      "Enter the number: 6\n",
      "enter marks: 20\n",
      "enter marks: 45\n",
      "enter marks: 70\n",
      "enter marks: 97\n",
      "enter marks: 79\n",
      "enter marks: 36\n",
      "Fail\n",
      "C Grade\n",
      "A grade\n",
      "s grade\n",
      "A grade\n",
      "C Grade\n",
      "[20, 45, 70, 97, 79, 36]\n",
      "['Fail', 'C grade', 'A grade', 's grade', 'A grade', 'C grade']\n"
     ]
    }
   ],
   "source": [
    "mark=int(input('Enter the number: '))\n",
    "stud=[]\n",
    "grade=[]\n",
    "for i in range(1,mark+1):\n",
    "    rang=int(input('enter marks: '))\n",
    "    stud.append(rang)\n",
    "for j in stud:\n",
    "    if j>90:\n",
    "        print('s grade')\n",
    "        grade.append('s grade')\n",
    "    elif j >=70 and j<90:\n",
    "        print('A grade')\n",
    "        grade.append('A grade')\n",
    "    elif j >=50 and j<70:\n",
    "        print('B Grade')\n",
    "        grade.append('B grade')\n",
    "    elif j>=30 and j<50:\n",
    "        print('C Grade')\n",
    "        grade.append('C grade')\n",
    "    elif j< 30:\n",
    "        print('Fail')\n",
    "        grade.append('Fail')\n",
    "    else:\n",
    "        print('Invalid input')\n",
    "print(stud)\n",
    "print(grade)"
   ]
  },
  {
   "cell_type": "raw",
   "metadata": {},
   "source": [
    " Python Program to Print all Numbers in a Range Divisible by a Given Number"
   ]
  },
  {
   "cell_type": "raw",
   "metadata": {},
   "source": [
    "1. Take in the upper range and lower range limit from the user.\n",
    "2. Take in the number to be divided by from the user.\n",
    "3. Using a for loop, print all the factors which is divisible by the number.\n",
    "4. Exit."
   ]
  },
  {
   "cell_type": "code",
   "execution_count": 7,
   "metadata": {},
   "outputs": [
    {
     "name": "stdout",
     "output_type": "stream",
     "text": [
      "enter the number 2\n",
      "enter the number 20\n",
      "enter the number 2\n",
      "[2, 4, 6, 8, 10, 12, 14, 16, 18, 20]\n"
     ]
    }
   ],
   "source": [
    "list1=[]\n",
    "lower_limit=int(input('enter the number '))\n",
    "higher_limit=int(input('enter the number '))\n",
    "number=int(input('enter the number '))\n",
    "for i in range(lower_limit,higher_limit+1):\n",
    "    if (i%number==0):\n",
    "        list1.append(i)\n",
    "print(list1)        \n",
    "    "
   ]
  },
  {
   "cell_type": "raw",
   "metadata": {},
   "source": [
    "Python Program to Read Two Numbers and Print Their Quotient and Remainder"
   ]
  },
  {
   "cell_type": "code",
   "execution_count": 9,
   "metadata": {},
   "outputs": [
    {
     "name": "stdout",
     "output_type": "stream",
     "text": [
      "enter the numerator10\n",
      "enter the denomenator: 3\n",
      "the qoutient is  3\n",
      "the remainder is  1\n"
     ]
    }
   ],
   "source": [
    "a=int(input('enter the numerator'))\n",
    "b=int(input('enter the denomenator: '))\n",
    "c,d=divmod(a,b)\n",
    "print( 'the qoutient is ',c)\n",
    "print('the remainder is ',d)"
   ]
  },
  {
   "cell_type": "raw",
   "metadata": {},
   "source": [
    "Program to Accept Three Digits and Print all Possible Combinations from the Digits"
   ]
  },
  {
   "cell_type": "raw",
   "metadata": {},
   "source": [
    "1. Take in the first, second and third number and store it in separate variables.\n",
    "2. Then append all the three numbers to the list.\n",
    "3. Use three for loops and print the digits in the list if none of their indexes are equal to each other.\n",
    "4. Exit."
   ]
  },
  {
   "cell_type": "code",
   "execution_count": 13,
   "metadata": {},
   "outputs": [
    {
     "name": "stdout",
     "output_type": "stream",
     "text": [
      "enter the number 3\n",
      "Etner number5\n",
      "Etner number7\n",
      "[3, 5, 7]\n",
      "{773, 775, 777, 533, 535, 537, 553, 555, 557, 573, 575, 577, 333, 335, 337, 733, 735, 353, 737, 355, 357, 753, 755, 373, 757, 375, 377}\n"
     ]
    }
   ],
   "source": [
    "a=int(input('enter the number '))\n",
    "b = int(input('Etner number'))\n",
    "c = int(input('Etner number'))\n",
    "lst=[]\n",
    "lst.append(a)\n",
    "lst.append(b)\n",
    "lst.append(c)\n",
    "print(lst)\n",
    "x=[]\n",
    "for i in lst:\n",
    "    for j in lst:\n",
    "        for k in lst:\n",
    "            x.append(100*i+10*j+k)\n",
    "print(set(x))"
   ]
  },
  {
   "cell_type": "code",
   "execution_count": 1,
   "metadata": {},
   "outputs": [
    {
     "name": "stdout",
     "output_type": "stream",
     "text": [
      "enter the first number:1\n",
      "enter the second number:2\n",
      "enter the third number:3\n",
      "[1, 2, 3]\n",
      "{131, 132, 133, 311, 312, 313, 321, 322, 323, 331, 332, 333, 211, 212, 213, 221, 222, 223, 231, 232, 233, 111, 112, 113, 121, 122, 123}\n"
     ]
    }
   ],
   "source": [
    "a=int(input('enter the first number:'))\n",
    "b=int(input('enter the second number:'))\n",
    "c=int(input('enter the third number:'))\n",
    "lst=[]\n",
    "lst.extend([a,b,c])\n",
    "print(lst)\n",
    "x=[]\n",
    "for i in lst:\n",
    "    for j in lst:\n",
    "        for k in lst:\n",
    "            x.append(100*i+10*j+k)\n",
    "print(set(x))           "
   ]
  },
  {
   "cell_type": "raw",
   "metadata": {},
   "source": [
    " Python Program to Print Odd Numbers Within a Given Range"
   ]
  },
  {
   "cell_type": "code",
   "execution_count": 1,
   "metadata": {},
   "outputs": [
    {
     "name": "stdout",
     "output_type": "stream",
     "text": [
      "enter the lower range 45\n",
      "enter the higher range 56\n",
      "the even numbers are [46, 48, 50, 52, 54, 56]\n",
      "the odd numbers are  [45, 47, 49, 51, 53, 55]\n"
     ]
    }
   ],
   "source": [
    "lower=int(input('enter the lower range '))\n",
    "higher=int(input('enter the higher range '))\n",
    "even=[]\n",
    "odd=[]\n",
    "for i in range(lower,higher+1):\n",
    "    if i%2==0:\n",
    "        even.append(i)\n",
    "    else:\n",
    "        odd.append(i)\n",
    "print('the even numbers are', even)\n",
    "print('the odd numbers are ',odd)"
   ]
  },
  {
   "cell_type": "code",
   "execution_count": 2,
   "metadata": {},
   "outputs": [
    {
     "name": "stdout",
     "output_type": "stream",
     "text": [
      "enter the lower range1\n",
      "enter the higher range20\n",
      "[1, 3, 5, 7, 9, 11, 13, 15, 17, 19]\n"
     ]
    }
   ],
   "source": [
    "lower=int(input('enter the lower range'))\n",
    "higher=int(input('enter the higher range'))\n",
    "odd=[]\n",
    "for i in range(lower,higher+1):\n",
    "    if i%2!=0:\n",
    "        odd.append(i)\n",
    "print(odd)"
   ]
  },
  {
   "cell_type": "raw",
   "metadata": {},
   "source": [
    "Python Program to Find the Sum of Digits in a Number"
   ]
  },
  {
   "cell_type": "code",
   "execution_count": 2,
   "metadata": {},
   "outputs": [
    {
     "name": "stdout",
     "output_type": "stream",
     "text": [
      "enter a number 657489342\n",
      "the sum of digits in the number is:  48\n"
     ]
    }
   ],
   "source": [
    "s=input('enter a number ')\n",
    "c=0\n",
    "for i in s:\n",
    "    c=c+int(i)\n",
    "print('the sum of digits in the number is: ',c)"
   ]
  },
  {
   "cell_type": "code",
   "execution_count": 3,
   "metadata": {},
   "outputs": [
    {
     "name": "stdout",
     "output_type": "stream",
     "text": [
      "enter the number:213\n",
      "6\n"
     ]
    }
   ],
   "source": [
    "n=input('enter the number:')\n",
    "c=0\n",
    "for i in n:\n",
    "    c+=int(i)\n",
    "print(c)"
   ]
  },
  {
   "cell_type": "raw",
   "metadata": {},
   "source": [
    "program to check a number is pallindrome or not"
   ]
  },
  {
   "cell_type": "code",
   "execution_count": 4,
   "metadata": {},
   "outputs": [
    {
     "name": "stdout",
     "output_type": "stream",
     "text": [
      "enter a number: 4567\n",
      "not a palindrome\n"
     ]
    }
   ],
   "source": [
    "s=input('enter a number: ')\n",
    "if s == s[::-1]:n\n",
    "    \n",
    "    print('palindrome')\n",
    "else:\n",
    "    print('not a palindrome')"
   ]
  },
  {
   "cell_type": "raw",
   "metadata": {},
   "source": [
    "Python Program to Print all Integers that Aren’t Divisible by Either 2 or 3 and Lie between 1 and 50."
   ]
  },
  {
   "cell_type": "code",
   "execution_count": 2,
   "metadata": {},
   "outputs": [
    {
     "name": "stdout",
     "output_type": "stream",
     "text": [
      "the numbers not divisible by 2 and 3 are  [1, 5, 7, 11, 13, 17, 19, 23, 25, 29, 31, 35, 37, 41, 43, 47, 49]\n"
     ]
    }
   ],
   "source": [
    "numbers=[]\n",
    "for i in range(1,51):\n",
    "    if (i%2 !=0) and (i%3 !=0):\n",
    "        numbers.append(i)\n",
    "print('the numbers not divisible by 2 and 3 are ',numbers)"
   ]
  },
  {
   "cell_type": "code",
   "execution_count": 1,
   "metadata": {},
   "outputs": [
    {
     "name": "stdout",
     "output_type": "stream",
     "text": [
      "the numbers not divisible by 2 and 3 are  [1, 2, 3, 4, 5, 7, 8, 9, 10, 11, 13, 14, 15, 16, 17, 19, 20, 21, 22, 23, 25, 26, 27, 28, 29, 31, 32, 33, 34, 35, 37, 38, 39, 40, 41, 43, 44, 45, 46, 47, 49, 50]\n"
     ]
    }
   ],
   "source": [
    "numbers=[]\n",
    "for i in range(1,51):\n",
    "    if (i%2 !=0) or (i%3 !=0):\n",
    "        numbers.append(i)\n",
    "print('the numbers not divisible by 2 and 3 are ',numbers)"
   ]
  },
  {
   "cell_type": "raw",
   "metadata": {},
   "source": [
    "Python Program to Read a Number n And Print the Series \"1+2+…..+n= \"\n"
   ]
  },
  {
   "cell_type": "raw",
   "metadata": {},
   "source": [
    "1. Take a value from the user and store it in a variable n.\n",
    "2. Use a for loop where the value of i ranges between the values of 1 and n.\n",
    "3. Print the value of i and ‘+’ operator while appending the value of i to a list.\n",
    "4. Then find the sum of elements in the list.\n",
    "5. Print ‘=’ followed by the total sum.\n",
    "6. Exit."
   ]
  },
  {
   "cell_type": "code",
   "execution_count": 6,
   "metadata": {},
   "outputs": [
    {
     "name": "stdout",
     "output_type": "stream",
     "text": [
      "enter the number 4\n",
      "[1, 2, 3, 4]\n"
     ]
    }
   ],
   "source": [
    "n=int(input('enter the number '))\n",
    "a=[]\n",
    "d=0\n",
    "for i in range(1,n+1):\n",
    "    a.append(i)\n",
    "print(a)"
   ]
  },
  {
   "cell_type": "code",
   "execution_count": 4,
   "metadata": {},
   "outputs": [
    {
     "name": "stdout",
     "output_type": "stream",
     "text": [
      "enter the number 5\n",
      "1 + 2 + 3 + 4 + 5 = 15\n"
     ]
    }
   ],
   "source": [
    "n=int(input('enter the number '))\n",
    "a=[]\n",
    "d=0\n",
    "for i in range(1,n+1):\n",
    "    a.append(i)\n",
    "    if i<n:\n",
    "        print(i,'+',end=\" \")\n",
    "    else:\n",
    "        print(i,'=',end=' ')\n",
    "print(sum(a))\n"
   ]
  },
  {
   "cell_type": "raw",
   "metadata": {},
   "source": [
    "Python Program to Read a Number n and Print the Natural Numbers Summation Pattern:"
   ]
  },
  {
   "cell_type": "raw",
   "metadata": {},
   "source": [
    "1. User must first enter the value and store it in a variable n.\n",
    "2. The outer for loop enables j to range between 1 and n (as n+1 is not included) while the inner for loop enables i to range between 1 and i.\n",
    "3. For each iteration, the value of i is printed.\n",
    "4. ‘+’ operator is printed only if i"
   ]
  },
  {
   "cell_type": "code",
   "execution_count": 11,
   "metadata": {},
   "outputs": [
    {
     "name": "stdout",
     "output_type": "stream",
     "text": [
      "enter the number: 4\n",
      "1 = 1\n",
      "1 + 2 = 3\n",
      "1 + 2 + 3 = 6\n",
      "1 + 2 + 3 + 4 = 10\n",
      "\n"
     ]
    }
   ],
   "source": [
    "n=int(input('enter the number: '))\n",
    "for j in range(1,n+1):\n",
    "    a=[]\n",
    "    for i in range(1,j+1):\n",
    "        print(i,sep=' ',end=' ')\n",
    "        if (i<j):\n",
    "            print('+',sep=' ',end=' ')\n",
    "        a.append(i)\n",
    "    print('=',sum(a))ix\n",
    "    \n",
    "print()\n",
    "        "
   ]
  },
  {
   "cell_type": "raw",
   "metadata": {},
   "source": [
    "Python Program to Print an Identity Matrix"
   ]
  },
  {
   "cell_type": "code",
   "execution_count": 16,
   "metadata": {},
   "outputs": [
    {
     "name": "stdout",
     "output_type": "stream",
     "text": [
      "enter the number: 6\n",
      "1 0 0 0 0 0 \n",
      "0 1 0 0 0 0 \n",
      "0 0 1 0 0 0 \n",
      "0 0 0 1 0 0 \n",
      "0 0 0 0 1 0 \n",
      "0 0 0 0 0 1 \n"
     ]
    }
   ],
   "source": [
    "n=int(input('enter the number: '))\n",
    "for i in range(0,n):\n",
    "    for j in range(0,n):\n",
    "        if i==j:\n",
    "            print('1',sep=' ',end=' ')\n",
    "        else:\n",
    "            print('0',sep=' ',end=' ')\n",
    "    print()\n",
    "   "
   ]
  },
  {
   "cell_type": "code",
   "execution_count": 17,
   "metadata": {},
   "outputs": [
    {
     "name": "stdout",
     "output_type": "stream",
     "text": [
      "enter the number 6\n",
      "[[1. 0. 0. 0. 0. 0.]\n",
      " [0. 1. 0. 0. 0. 0.]\n",
      " [0. 0. 1. 0. 0. 0.]\n",
      " [0. 0. 0. 1. 0. 0.]\n",
      " [0. 0. 0. 0. 1. 0.]\n",
      " [0. 0. 0. 0. 0. 1.]]\n"
     ]
    }
   ],
   "source": [
    "n=int(input('enter the number '))\n",
    "for i in range(0,n):\n",
    "    c=np.eye(n)\n",
    "print(c)"
   ]
  },
  {
   "cell_type": "code",
   "execution_count": 20,
   "metadata": {},
   "outputs": [
    {
     "name": "stdout",
     "output_type": "stream",
     "text": [
      "enter a number: 5\n",
      "[1, 0, 0, 0, 0, 0]\n",
      "[0, 1, 0, 0, 0, 0]\n",
      "[0, 0, 1, 0, 0, 0]\n",
      "[0, 0, 0, 1, 0, 0]\n",
      "[0, 0, 0, 0, 1, 0]\n",
      "[0, 0, 0, 0, 0, 1]\n"
     ]
    }
   ],
   "source": [
    "n=int(input('enter a number: '))\n",
    "for i in range(0,n+1):\n",
    "    a=[]\n",
    "    for j in range(0,n+1):\n",
    "        if i==j:\n",
    "            a.append(1)\n",
    "        else:\n",
    "            a.append(0)\n",
    "    print(a)"
   ]
  },
  {
   "cell_type": "raw",
   "metadata": {},
   "source": [
    "Python Program to Print an Inverted Star Pattern"
   ]
  },
  {
   "cell_type": "code",
   "execution_count": 21,
   "metadata": {},
   "outputs": [
    {
     "name": "stdout",
     "output_type": "stream",
     "text": [
      "enter the number of rows: 4\n",
      "****\n",
      "***\n",
      "**\n",
      "*\n"
     ]
    }
   ],
   "source": [
    "n=int(input('enter the number of rows: '))\n",
    "for i in range(n,0,-1):\n",
    "    print(i*'*')"
   ]
  },
  {
   "cell_type": "code",
   "execution_count": 5,
   "metadata": {},
   "outputs": [
    {
     "name": "stdout",
     "output_type": "stream",
     "text": [
      "enter the number of rows: 5\n",
      "\n",
      "*\n",
      "**\n",
      "***\n",
      "****\n"
     ]
    }
   ],
   "source": [
    "n=int(input('enter the number of rows: '))\n",
    "for i in range(0,n):\n",
    "    print(i*'*')"
   ]
  },
  {
   "cell_type": "code",
   "execution_count": 23,
   "metadata": {},
   "outputs": [
    {
     "name": "stdout",
     "output_type": "stream",
     "text": [
      "enter the number of rows: 5\n",
      "*****\n",
      " ****\n",
      "  ***\n",
      "   **\n",
      "    *\n"
     ]
    }
   ],
   "source": [
    "n=int(input('enter the number of rows: '))\n",
    "for i in range(n,0,-1):\n",
    "    print((n-i)*' '+i*'*')"
   ]
  },
  {
   "cell_type": "code",
   "execution_count": 24,
   "metadata": {},
   "outputs": [
    {
     "name": "stdout",
     "output_type": "stream",
     "text": [
      "enter the number: 5\n",
      "*\n",
      "*\n",
      "*\n",
      "*\n",
      "*\n"
     ]
    }
   ],
   "source": [
    "n=int(input('enter the number: '))\n",
    "for i in range(1,n+1):\n",
    "    print('*')\n",
    "    "
   ]
  },
  {
   "cell_type": "markdown",
   "metadata": {},
   "source": [
    "# strings"
   ]
  },
  {
   "cell_type": "raw",
   "metadata": {},
   "source": [
    "Python Program to Replace all Occurrences of ‘a’ with $ in a String"
   ]
  },
  {
   "cell_type": "raw",
   "metadata": {},
   "source": [
    "1. Take a string and store it in a variable.\n",
    "2. Using the replace function, replace all occurrences of ‘a’ and ‘A’ with ‘$’ and store it back in the variable.\n",
    "3. Print the modified string.\n",
    "4. Exit.\n",
    "\n"
   ]
  },
  {
   "cell_type": "code",
   "execution_count": 25,
   "metadata": {},
   "outputs": [
    {
     "name": "stdout",
     "output_type": "stream",
     "text": [
      "enter a string:ahgdfhahcbha\n",
      "modified string $hgdfh$hcbh$\n"
     ]
    }
   ],
   "source": [
    "string=input('enter a string:')\n",
    "string=string.replace('a','$')\n",
    "string=string.replace('A','$')\n",
    "print('modified string',string)"
   ]
  },
  {
   "cell_type": "raw",
   "metadata": {},
   "source": [
    "Python Program to Remove the nth Index Character from a Non-Empty String:"
   ]
  },
  {
   "cell_type": "code",
   "execution_count": 26,
   "metadata": {},
   "outputs": [
    {
     "name": "stdout",
     "output_type": "stream",
     "text": [
      "ehter the string: annonaalex\n",
      "enter the index of the character to be removed 3\n",
      "modified string annnaalex\n"
     ]
    }
   ],
   "source": [
    "def remove(string,n):\n",
    "    first=string[:n]\n",
    "    last=string[n+1:]\n",
    "    return first+last\n",
    "string=input('enter the string: ')\n",
    "n=int(input('enter the index of the character to be removed '))\n",
    "print('modified string',remove(string,n))"
   ]
  },
  {
   "cell_type": "raw",
   "metadata": {},
   "source": [
    "Python Program to Detect if Two Strings are Anagrams"
   ]
  },
  {
   "cell_type": "raw",
   "metadata": {},
   "source": [
    "anagram:a word, phrase, or name formed by rearranging the letters of another, such as spar, formed from rasp."
   ]
  },
  {
   "cell_type": "code",
   "execution_count": 28,
   "metadata": {},
   "outputs": [
    {
     "name": "stdout",
     "output_type": "stream",
     "text": [
      "enter the string: anona\n",
      "enter the string annona\n",
      "the strings are not anagrams.\n"
     ]
    }
   ],
   "source": [
    "string1=input('enter the string: ')\n",
    "string2=input('enter the string ')\n",
    "if (sorted(string1)==sorted(string2)):\n",
    "    print('the strings are anagrams')\n",
    "else:\n",
    "    print('the strings are not anagrams.')\n"
   ]
  },
  {
   "cell_type": "raw",
   "metadata": {},
   "source": [
    "Python Program to Form a New String where the First Character and the Last Character have been Exchanged"
   ]
  },
  {
   "cell_type": "code",
   "execution_count": 30,
   "metadata": {},
   "outputs": [
    {
     "name": "stdout",
     "output_type": "stream",
     "text": [
      "enter the string:annonaalex\n",
      "xnnonaalea\n"
     ]
    }
   ],
   "source": [
    "def change(string):\n",
    "    return string[-1:]+string[1:-1]+string[:1]\n",
    "string=input('enter the string:')\n",
    "print(change(string))"
   ]
  },
  {
   "cell_type": "code",
   "execution_count": 5,
   "metadata": {},
   "outputs": [
    {
     "name": "stdout",
     "output_type": "stream",
     "text": [
      "enter the string:annonalex\n",
      "xnnonalea\n"
     ]
    }
   ],
   "source": [
    "def change(string):\n",
    "    return(string[-1]+string[1:-1]+string[0])\n",
    "string=input('enter the string:')\n",
    "print(change(string))"
   ]
  },
  {
   "cell_type": "raw",
   "metadata": {},
   "source": [
    "Python Program to Count the Number of Vowels in a String"
   ]
  },
  {
   "cell_type": "code",
   "execution_count": 35,
   "metadata": {},
   "outputs": [
    {
     "name": "stdout",
     "output_type": "stream",
     "text": [
      "enter the string: annonaalex\n",
      "number of vowels are:  5\n"
     ]
    }
   ],
   "source": [
    "string=input('enter the string: ')\n",
    "vowels=0\n",
    "for i in string:\n",
    "    if(i=='a' or i=='e' or i=='i' or i=='o'or i=='u'):\n",
    "        vowels=vowels+1\n",
    "print('number of vowels are: ',vowels)\n"
   ]
  },
  {
   "cell_type": "raw",
   "metadata": {},
   "source": [
    "Python Program to Take in a String and Replace Every Blank Space with Hyphen"
   ]
  },
  {
   "cell_type": "code",
   "execution_count": 37,
   "metadata": {},
   "outputs": [
    {
     "name": "stdout",
     "output_type": "stream",
     "text": [
      "enter the string: annona alex\n",
      "modified string annona-alex\n"
     ]
    }
   ],
   "source": [
    "string=input('enter the string: ')\n",
    "string=string.replace(' ','-')\n",
    "print('modified string',string)\n",
    "\n"
   ]
  },
  {
   "cell_type": "raw",
   "metadata": {},
   "source": [
    "Python Program to Calculate the Length of a String Without Using a Library Function:"
   ]
  },
  {
   "cell_type": "code",
   "execution_count": 38,
   "metadata": {},
   "outputs": [
    {
     "name": "stdout",
     "output_type": "stream",
     "text": [
      "enter the string: annonaalex\n",
      "10\n"
     ]
    }
   ],
   "source": [
    "string=input('enter the string: ')\n",
    "stringlength=0\n",
    "for i in string:\n",
    "    stringlength=stringlength+1\n",
    "print(stringlength)"
   ]
  },
  {
   "cell_type": "raw",
   "metadata": {},
   "source": [
    "Python Program to Remove the Characters of Odd Index Values in a String"
   ]
  },
  {
   "cell_type": "code",
   "execution_count": 41,
   "metadata": {},
   "outputs": [
    {
     "name": "stdout",
     "output_type": "stream",
     "text": [
      "enter the string: annona alex\n",
      "ann lx\n"
     ]
    }
   ],
   "source": [
    "string=input('enter the string: ')\n",
    "final=''\n",
    "for i in range(len(string)):\n",
    "    if i%2==0:\n",
    "        final=final+string[i]\n",
    "print(final)\n",
    "\n",
    "        \n"
   ]
  },
  {
   "cell_type": "raw",
   "metadata": {},
   "source": [
    "Python Program to Calculate the Number of Words and the Number of Characters Present in a String:"
   ]
  },
  {
   "cell_type": "code",
   "execution_count": 42,
   "metadata": {},
   "outputs": [
    {
     "name": "stdout",
     "output_type": "stream",
     "text": [
      "enter the string: annona elizabeth alias\n",
      "number of words in the string:  3\n",
      "number of charachers in the string 22\n"
     ]
    }
   ],
   "source": [
    "string=input('enter the string: ')\n",
    "char=0\n",
    "word=1\n",
    "for i in string:\n",
    "    char=char+1\n",
    "    if(i==(' ')):\n",
    "        word=word+1\n",
    "print('number of words in the string: ',word)\n",
    "print('number of charachers in the string',char)"
   ]
  },
  {
   "cell_type": "code",
   "execution_count": 6,
   "metadata": {},
   "outputs": [
    {
     "name": "stdout",
     "output_type": "stream",
     "text": [
      "enter the string:annona alex\n",
      "2\n",
      "10\n"
     ]
    }
   ],
   "source": [
    "string=input('enter the string:')\n",
    "word=1\n",
    "char=0\n",
    "for i in string:\n",
    "    if i==' ':\n",
    "        word=word+1\n",
    "    else:\n",
    "        char+=1\n",
    "print(word)\n",
    "print(char)"
   ]
  },
  {
   "cell_type": "raw",
   "metadata": {},
   "source": [
    "Python Program to Take in Two Strings and Display the Larger String without Using Built-in Functions"
   ]
  },
  {
   "cell_type": "raw",
   "metadata": {},
   "source": [
    "1. Take in two strings from the user and store it in separate variables.\n",
    "2. Initialize the two count variables to zero.\n",
    "3. Use a for loop to traverse through the characters in the string and increment the count variables each time a character is encountered.\n",
    "4. Compare the count variables of both the strings.\n",
    "5. Print the larger string.\n",
    "6. Exit."
   ]
  },
  {
   "cell_type": "code",
   "execution_count": 44,
   "metadata": {},
   "outputs": [
    {
     "name": "stdout",
     "output_type": "stream",
     "text": [
      "enter the string1: annona\n",
      "enter the string2: aquilin\n",
      "string2 greater than string1\n"
     ]
    }
   ],
   "source": [
    "string1=input('enter the string1: ')\n",
    "string2=input('enter the string2: ')\n",
    "c1=0\n",
    "c2=0\n",
    "for i in string1:\n",
    "    c1=c1+1\n",
    "for i in string2:\n",
    "    c2=c2+1\n",
    "if c1>c2:\n",
    "    print('string1 greater than string2')\n",
    "elif c1==c2:\n",
    "    print('both strings are equal')\n",
    "else:\n",
    "    print('string2 greater than string1')\n",
    "    "
   ]
  },
  {
   "cell_type": "raw",
   "metadata": {},
   "source": [
    "Python Program to Count Number of Lowercase Characters in a String"
   ]
  },
  {
   "cell_type": "code",
   "execution_count": 46,
   "metadata": {},
   "outputs": [
    {
     "name": "stdout",
     "output_type": "stream",
     "text": [
      "enter the string: Annona Alex\n",
      "no of lower case characters is: 8\n"
     ]
    }
   ],
   "source": [
    "string=input('enter the string: ')\n",
    "count=0\n",
    "for i in string:\n",
    "    if (i.islower()):\n",
    "        count=count+1\n",
    "print('no of lower case characters is:',count)"
   ]
  },
  {
   "cell_type": "raw",
   "metadata": {},
   "source": [
    "Python Program to Calculate the Number of Upper Case Letters and Lower Case Letters in a String"
   ]
  },
  {
   "cell_type": "code",
   "execution_count": 47,
   "metadata": {},
   "outputs": [
    {
     "name": "stdout",
     "output_type": "stream",
     "text": [
      "enter the string2: Annona Alex\n",
      "no of lower case characters is: 8\n",
      "no of upper case cahracters is: 2\n"
     ]
    }
   ],
   "source": [
    "string1=input('enter the string2: ')\n",
    "\n",
    "c1=0\n",
    "c2=0\n",
    "for i in string:\n",
    "    if (i.islower()):\n",
    "        c1=c1+1\n",
    "    elif (i.isupper()):\n",
    "        c2=c2+1\n",
    "\n",
    "\n",
    "print('no of lower case characters is:',c1)\n",
    "print('no of upper case cahracters is:',c2)\n"
   ]
  },
  {
   "cell_type": "raw",
   "metadata": {},
   "source": [
    "Python Program to Check if a String is a Pangram or Not"
   ]
  },
  {
   "cell_type": "raw",
   "metadata": {},
   "source": [
    "Pangrams are words or sentences containing every letter of the alphabet at least once;"
   ]
  },
  {
   "cell_type": "code",
   "execution_count": 53,
   "metadata": {},
   "outputs": [
    {
     "name": "stdout",
     "output_type": "stream",
     "text": [
      "enter the string: The quick brown fox jumps over the lazy dog\n",
      "the string is a pangram\n"
     ]
    }
   ],
   "source": [
    "from string import ascii_lowercase as lower_case\n",
    "def check(s):\n",
    "    return set(lower_case)-set(s.lower())==set([])\n",
    "s=input('enter the string: ')\n",
    "if(check(s)==True):\n",
    "    print('the string is a pangram')\n",
    "else:\n",
    "    print('the string is not a pangram')\n"
   ]
  },
  {
   "cell_type": "code",
   "execution_count": 51,
   "metadata": {},
   "outputs": [
    {
     "data": {
      "text/plain": [
       "{'a',\n",
       " 'b',\n",
       " 'c',\n",
       " 'd',\n",
       " 'e',\n",
       " 'f',\n",
       " 'g',\n",
       " 'h',\n",
       " 'i',\n",
       " 'j',\n",
       " 'k',\n",
       " 'l',\n",
       " 'm',\n",
       " 'n',\n",
       " 'o',\n",
       " 'p',\n",
       " 'q',\n",
       " 'r',\n",
       " 's',\n",
       " 't',\n",
       " 'u',\n",
       " 'v',\n",
       " 'w',\n",
       " 'x',\n",
       " 'y',\n",
       " 'z'}"
      ]
     },
     "execution_count": 51,
     "metadata": {},
     "output_type": "execute_result"
    }
   ],
   "source": [
    "set(lower_case)"
   ]
  },
  {
   "cell_type": "code",
   "execution_count": 52,
   "metadata": {},
   "outputs": [
    {
     "data": {
      "text/plain": [
       "{' ',\n",
       " 'a',\n",
       " 'b',\n",
       " 'c',\n",
       " 'd',\n",
       " 'e',\n",
       " 'f',\n",
       " 'g',\n",
       " 'h',\n",
       " 'i',\n",
       " 'j',\n",
       " 'k',\n",
       " 'l',\n",
       " 'm',\n",
       " 'n',\n",
       " 'o',\n",
       " 'p',\n",
       " 'q',\n",
       " 'r',\n",
       " 's',\n",
       " 't',\n",
       " 'u',\n",
       " 'v',\n",
       " 'w',\n",
       " 'x',\n",
       " 'y',\n",
       " 'z'}"
      ]
     },
     "execution_count": 52,
     "metadata": {},
     "output_type": "execute_result"
    }
   ],
   "source": [
    "set(s.lower())"
   ]
  },
  {
   "cell_type": "raw",
   "metadata": {},
   "source": [
    "Python Program to Accept a Hyphen Separated Sequence of Words as Input and Print the Words in a Hyphen-Separated Sequence after Sorting them Alphabetically"
   ]
  },
  {
   "cell_type": "code",
   "execution_count": 56,
   "metadata": {},
   "outputs": [
    {
     "name": "stdout",
     "output_type": "stream",
     "text": [
      "enter the string:Annona-Elizabeth-Alias\n",
      "sorted:\n",
      "Alias-Annona-Elizabeth\n"
     ]
    }
   ],
   "source": [
    "hyphen_separated_words=input('enter the string:')\n",
    "lst=[n for n in hyphen_separated_words.split('-')]\n",
    "lst.sort()\n",
    "print('sorted:')\n",
    "print('-'.join(lst))\n",
    "    "
   ]
  },
  {
   "cell_type": "raw",
   "metadata": {},
   "source": [
    "Python Program to Calculate the Number of Digits and Letters in a String"
   ]
  },
  {
   "cell_type": "code",
   "execution_count": 27,
   "metadata": {},
   "outputs": [
    {
     "name": "stdout",
     "output_type": "stream",
     "text": [
      "enter the string: annonaelza312gmailcom\n",
      "the number of digits is:  3\n",
      "the number of letters is:  18\n"
     ]
    }
   ],
   "source": [
    "string=input('enter the string: ')\n",
    "c1=0\n",
    "c2=0\n",
    "for i in string:\n",
    "    if (i.isdigit()):\n",
    "        c1=c1+1\n",
    "    else:\n",
    "        c2=c2+1\n",
    "print('the number of digits is: ',c1)\n",
    "print('the number of letters is: ',c2)\n",
    "\n",
    "        "
   ]
  },
  {
   "cell_type": "raw",
   "metadata": {},
   "source": [
    "Python Program to Form a New String Made of the First 2 and Last 2 characters From a Given String"
   ]
  },
  {
   "cell_type": "code",
   "execution_count": 63,
   "metadata": {},
   "outputs": [
    {
     "name": "stdout",
     "output_type": "stream",
     "text": [
      "enter the string: annonalex\n",
      "new string is : anex\n"
     ]
    }
   ],
   "source": [
    "string=input('enter the string: ')\n",
    "count=0\n",
    "for i in string:\n",
    "    count=count+1\n",
    "new_string=string[0:2]+string[count-2:count]\n",
    "print('new string is :',new_string)"
   ]
  },
  {
   "cell_type": "raw",
   "metadata": {},
   "source": [
    "Python Program to Count the Occurrences of Each Word in a Given String Sentence:\n"
   ]
  },
  {
   "cell_type": "code",
   "execution_count": 65,
   "metadata": {},
   "outputs": [
    {
     "name": "stdout",
     "output_type": "stream",
     "text": [
      "enter the string: annona alias aquilin alias\n"
     ]
    },
    {
     "data": {
      "text/plain": [
       "['annona', 'alias', 'aquilin', 'alias']"
      ]
     },
     "execution_count": 65,
     "metadata": {},
     "output_type": "execute_result"
    }
   ],
   "source": [
    "string=input('enter the string: ')\n",
    "\n",
    "a=[]\n",
    "\n",
    "a=string.split(' ')\n",
    "a\n"
   ]
  },
  {
   "cell_type": "code",
   "execution_count": 66,
   "metadata": {},
   "outputs": [
    {
     "name": "stdout",
     "output_type": "stream",
     "text": [
      "enter the string: annona alias aquilin alias\n",
      "enter the word: alias\n",
      "the count of alias is 2\n"
     ]
    }
   ],
   "source": [
    "string=input('enter the string: ')\n",
    "word=input('enter the word: ')\n",
    "a=[]\n",
    "count=0\n",
    "a=string.split(' ')\n",
    "for i in range(0,len(a)):\n",
    "    if word==a[i]:\n",
    "        count=count+1\n",
    "print('the count of',word,'is',count)\n"
   ]
  },
  {
   "cell_type": "code",
   "execution_count": 1,
   "metadata": {},
   "outputs": [
    {
     "name": "stdout",
     "output_type": "stream",
     "text": [
      "enter the string: annona annona\n",
      "enter the word: annona\n",
      "2\n"
     ]
    }
   ],
   "source": [
    "string=input('enter the string: ')\n",
    "w=input('enter the word: ')\n",
    "a=[]\n",
    "c=0\n",
    "a=string.split(' ')\n",
    "for i in a:\n",
    "    if w==i:\n",
    "        c+=1\n",
    "print(c)\n"
   ]
  },
  {
   "cell_type": "raw",
   "metadata": {},
   "source": [
    "Python Program to Check if a Substring is Present in a Given String"
   ]
  },
  {
   "cell_type": "raw",
   "metadata": {},
   "source": [
    "1. Take a string and a substring from the user and store it in separate variables.\n",
    "2. Check if the substring is present in the string using find() in-built function.\n",
    "3. Print the final result.\n",
    "4. Exit."
   ]
  },
  {
   "cell_type": "code",
   "execution_count": 68,
   "metadata": {},
   "outputs": [
    {
     "name": "stdout",
     "output_type": "stream",
     "text": [
      "enter the string: annona alias\n",
      "enter the string: alias\n",
      "substring  found in the string\n"
     ]
    }
   ],
   "source": [
    "string=input('enter the string: ')\n",
    "sub_string=input('enter the string: ')\n",
    "if(string.find(sub_string)==-1):\n",
    "    print('substring is not found in the string')\n",
    "else:\n",
    "    print('substring  found in the string')"
   ]
  },
  {
   "cell_type": "code",
   "execution_count": 3,
   "metadata": {},
   "outputs": [
    {
     "name": "stdout",
     "output_type": "stream",
     "text": [
      "enter the string: annona alias\n",
      "enter the substring: alias\n",
      "yes\n"
     ]
    }
   ],
   "source": [
    "string=input('enter the string: ')\n",
    "a=[]\n",
    "a=string.split(' ')\n",
    "sub=input('enter the substring: ')\n",
    "for i in a:\n",
    "    if i in sub:\n",
    "        print('yes')\n",
    "        break\n",
    "else:\n",
    "    print('no')"
   ]
  },
  {
   "cell_type": "markdown",
   "metadata": {},
   "source": [
    "# sets"
   ]
  },
  {
   "cell_type": "raw",
   "metadata": {},
   "source": [
    "Python Program to Count the Number of Vowels Present in a String using Sets\n"
   ]
  },
  {
   "cell_type": "code",
   "execution_count": 75,
   "metadata": {},
   "outputs": [
    {
     "name": "stdout",
     "output_type": "stream",
     "text": [
      "enter the string: annona\n",
      "count of vowel is: 3\n"
     ]
    }
   ],
   "source": [
    "string=input('enter the string: ')\n",
    "vowels=('a','e','1','o','u')\n",
    "count=0\n",
    "for i in string:\n",
    "    if i in vowels:\n",
    "        count +=1\n",
    "print('count of vowel is:',count)\n"
   ]
  },
  {
   "cell_type": "raw",
   "metadata": {},
   "source": [
    "Python Program to Check Common Letters in Two Input Strings"
   ]
  },
  {
   "cell_type": "code",
   "execution_count": 76,
   "metadata": {},
   "outputs": [
    {
     "name": "stdout",
     "output_type": "stream",
     "text": [
      "enter the first string: annona \n",
      "enter the second string: alias\n",
      "the common letters are:\n",
      "a\n"
     ]
    }
   ],
   "source": [
    "s1=input('enter the first string: ')\n",
    "s2=input('enter the second string: ')\n",
    "a=list(set(s1)&set(s2))\n",
    "print('the common letters are:')\n",
    "for i in a:\n",
    "    print(i)"
   ]
  },
  {
   "cell_type": "code",
   "execution_count": 78,
   "metadata": {},
   "outputs": [
    {
     "name": "stdout",
     "output_type": "stream",
     "text": [
      "enter the first string: annona\n",
      "enter the second string: anona\n"
     ]
    },
    {
     "data": {
      "text/plain": [
       "['n', 'a', 'o']"
      ]
     },
     "execution_count": 78,
     "metadata": {},
     "output_type": "execute_result"
    }
   ],
   "source": [
    "s1=input('enter the first string: ')\n",
    "s2=input('enter the second string: ')\n",
    "a=list(set(s1)&set(s2))\n",
    "a"
   ]
  },
  {
   "cell_type": "code",
   "execution_count": 4,
   "metadata": {},
   "outputs": [
    {
     "name": "stdout",
     "output_type": "stream",
     "text": [
      "enter the first string: annona\n",
      "enter the second string: annona\n",
      "3\n",
      "['a', 'o', 'n']\n"
     ]
    }
   ],
   "source": [
    "s1=input('enter the first string: ')\n",
    "s2=input('enter the second string: ')\n",
    "s1set=set(s1)\n",
    "s2set=set(s2)\n",
    "c=0\n",
    "a=[]\n",
    "for i in s1set:\n",
    "    if i in s2set:\n",
    "        c+=1\n",
    "        a.append(i)\n",
    "print(c)\n",
    "print(a)\n",
    "        "
   ]
  },
  {
   "cell_type": "raw",
   "metadata": {},
   "source": [
    "Python Program that Displays which Letters are in the First String but not in the Second"
   ]
  },
  {
   "cell_type": "code",
   "execution_count": 82,
   "metadata": {},
   "outputs": [
    {
     "name": "stdout",
     "output_type": "stream",
     "text": [
      "enter the first string: annona\n",
      "enter the second string: alex\n",
      "['n', 'o']\n",
      "the letters are: n\n",
      "the letters are: o\n"
     ]
    }
   ],
   "source": [
    "s1=input('enter the first string: ')\n",
    "s2=input('enter the second string: ')\n",
    "a=list(set(s1)-set(s2))\n",
    "print(a)\n",
    "for i in a:\n",
    "    print('the letters are:',i)"
   ]
  },
  {
   "cell_type": "code",
   "execution_count": 5,
   "metadata": {},
   "outputs": [
    {
     "name": "stdout",
     "output_type": "stream",
     "text": [
      "enter the first string: annona\n",
      "enter the second string: alex\n",
      "2\n",
      "['o', 'n']\n"
     ]
    }
   ],
   "source": [
    "s1=input('enter the first string: ')\n",
    "s2=input('enter the second string: ')\n",
    "s1set=set(s1)\n",
    "s2set=set(s2)\n",
    "c=0\n",
    "a=[]\n",
    "for i in s1set:\n",
    "    if i  not in s2set:\n",
    "        c+=1\n",
    "        a.append(i)\n",
    "print(c)\n",
    "print(a)\n",
    "        "
   ]
  },
  {
   "cell_type": "raw",
   "metadata": {},
   "source": [
    "Python Program that Displays which Letters are in the Two Strings but not in Both"
   ]
  },
  {
   "cell_type": "code",
   "execution_count": 83,
   "metadata": {},
   "outputs": [
    {
     "name": "stdout",
     "output_type": "stream",
     "text": [
      "enter the first string: annona\n",
      "enter the second string: alex\n",
      "the common letters are:  ['n', 'x', 'l', 'o', 'e']\n"
     ]
    }
   ],
   "source": [
    "s1=input('enter the first string: ')\n",
    "s2=input('enter the second string: ')\n",
    "a=list(set(s1)^set(s2))\n",
    "print('the common letters are: ',a)"
   ]
  },
  {
   "cell_type": "code",
   "execution_count": 6,
   "metadata": {},
   "outputs": [
    {
     "name": "stdout",
     "output_type": "stream",
     "text": [
      "enter the first string: annona\n",
      "enter the second string: alex\n",
      "5\n",
      "['o', 'n', 'l', 'x', 'e']\n"
     ]
    }
   ],
   "source": [
    "s1=input('enter the first string: ')\n",
    "s2=input('enter the second string: ')\n",
    "s1set=set(s1)\n",
    "s2set=set(s2)\n",
    "c=0\n",
    "a=[]\n",
    "for i in s1set:\n",
    "    if i  not in s2set:\n",
    "        c+=1\n",
    "        a.append(i)\n",
    "for i in s2set:\n",
    "    if i  not in s1set:\n",
    "        c+=1\n",
    "        a.append(i)\n",
    "print(c)\n",
    "print(a)"
   ]
  },
  {
   "cell_type": "markdown",
   "metadata": {},
   "source": [
    "# LIST"
   ]
  },
  {
   "cell_type": "raw",
   "metadata": {},
   "source": [
    "Python Program to Find the Largest Number in a List"
   ]
  },
  {
   "cell_type": "code",
   "execution_count": 1,
   "metadata": {},
   "outputs": [
    {
     "name": "stdout",
     "output_type": "stream",
     "text": [
      "thr largest number is 9\n"
     ]
    }
   ],
   "source": [
    "lst=[1,2,3,4,5,6,7,9]\n",
    "print('thr largest number is',max(lst))"
   ]
  },
  {
   "cell_type": "code",
   "execution_count": 7,
   "metadata": {},
   "outputs": [
    {
     "name": "stdout",
     "output_type": "stream",
     "text": [
      "enter the number of elements in the list wanted:12\n",
      "enter the number23\n",
      "enter the number34\n",
      "enter the number5\n",
      "enter the number3457\n",
      "enter the number34\n",
      "enter the number56\n",
      "enter the number34\n",
      "enter the number23\n",
      "enter the number123\n",
      "enter the number234\n",
      "enter the number567\n",
      "enter the number789\n",
      "3457\n"
     ]
    }
   ],
   "source": [
    "a=[]\n",
    "n=int(input('enter the number of elements in the list wanted:'))\n",
    "for i in range(n):\n",
    "    b=int(input('enter the number'))\n",
    "    a.append(b)\n",
    "print(max(a))"
   ]
  },
  {
   "cell_type": "code",
   "execution_count": 4,
   "metadata": {},
   "outputs": [
    {
     "name": "stdout",
     "output_type": "stream",
     "text": [
      "enter the number of elements in the list4\n",
      "enter the number added to the list: 23\n",
      "enter the number added to the list: 67\n",
      "enter the number added to the list: 89\n",
      "enter the number added to the list: 10000\n",
      "largest number is:  10000\n",
      "largest number is:  10000\n"
     ]
    }
   ],
   "source": [
    "a=[]\n",
    "n=int(input('enter the number of elements in the list'))\n",
    "for i in range(n):\n",
    "    b=int(input('enter the number added to the list: '))\n",
    "    a.append(b)\n",
    "a.sort()\n",
    "print('largest number is: ',a[n-1])\n",
    "print('largest number is: ',max(a))"
   ]
  },
  {
   "cell_type": "code",
   "execution_count": 1,
   "metadata": {},
   "outputs": [
    {
     "name": "stdout",
     "output_type": "stream",
     "text": [
      "enter the number : 4\n",
      "enter the number: 12\n",
      "enter the number: 34\n",
      "enter the number: 67\n",
      "enter the number: 89\n",
      "the second largest number is:  67\n"
     ]
    }
   ],
   "source": [
    "a=[]\n",
    "n=int(input('enter the number : '))\n",
    "for i in range(n):\n",
    "    b=int(input('enter the number: '))\n",
    "    a.append(b)\n",
    "a.sort()\n",
    "print('the second largest number is: ',a[n-2])"
   ]
  },
  {
   "cell_type": "raw",
   "metadata": {},
   "source": [
    "Python Program to Put Even and Odd elements in a List into Two Different Lists:"
   ]
  },
  {
   "cell_type": "code",
   "execution_count": 2,
   "metadata": {},
   "outputs": [
    {
     "name": "stdout",
     "output_type": "stream",
     "text": [
      "enter the number of elements: 8\n",
      "enter the numbers: 1\n",
      "enter the numbers: 2\n",
      "enter the numbers: 3\n",
      "enter the numbers: 4\n",
      "enter the numbers: 5\n",
      "enter the numbers: 6\n",
      "enter the numbers: 7\n",
      "enter the numbers: 8\n",
      "[0, 1, 2, 3, 4, 5, 6, 7]\n",
      "[0, 2, 4, 6]\n",
      "[1, 3, 5, 7]\n"
     ]
    }
   ],
   "source": [
    "lst=[]\n",
    "even=[]\n",
    "odd=[]\n",
    "n=int(input('enter the number of elements: '))\n",
    "for i in range(n):\n",
    "    b=int(input('enter the numbers: '))\n",
    "    lst.append(i)\n",
    "print(lst)\n",
    "for i in lst:\n",
    "    if i%2==0:\n",
    "        even.append(i)\n",
    "    else:\n",
    "        odd.append(i)\n",
    "print(even)\n",
    "print(odd)\n",
    "    "
   ]
  },
  {
   "cell_type": "raw",
   "metadata": {},
   "source": [
    "Python Program to Merge Two Lists and Sort it"
   ]
  },
  {
   "cell_type": "raw",
   "metadata": {},
   "source": [
    "Python Program to Sort the List According to the Second Element in Sublist"
   ]
  },
  {
   "cell_type": "raw",
   "metadata": {},
   "source": [
    "Python Program to Sort a List According to the Length of the Elements"
   ]
  },
  {
   "cell_type": "code",
   "execution_count": 5,
   "metadata": {},
   "outputs": [
    {
     "name": "stdout",
     "output_type": "stream",
     "text": [
      "enter the number of elements: 3\n",
      "enter the string: annona\n",
      "enter the string: alex\n",
      "enter the string: alias\n",
      "['annona', 'alex', 'alias']\n",
      "the sorted list is: ['alex', 'alias', 'annona']\n"
     ]
    }
   ],
   "source": [
    "a=[]\n",
    "n=int(input('enter the number of elements: '))\n",
    "for i in range(n):\n",
    "    b=input('enter the string: ')\n",
    "    a.append(b)\n",
    "print(a)\n",
    "a.sort(key=len)\n",
    "print('the sorted list is:',a)"
   ]
  },
  {
   "cell_type": "code",
   "execution_count": 6,
   "metadata": {},
   "outputs": [
    {
     "name": "stdout",
     "output_type": "stream",
     "text": [
      "Enter size of list 1: 3\n",
      "Enter any number:3\n",
      "Enter any number:4\n",
      "Enter any number:5\n",
      "Enter size of list 2:4\n",
      "Enter any number:2\n",
      "Enter any number:6\n",
      "Enter any number:3\n",
      "Enter any number:5\n",
      "the union of the list is: [2, 3, 4, 5, 6]\n"
     ]
    }
   ],
   "source": [
    "l1 = []\n",
    "num1 = int(input('Enter size of list 1: '))\n",
    "for n in range(num1):\n",
    "    numbers1 = int(input('Enter any number:'))\n",
    "    l1.append(numbers1)\n",
    " \n",
    "l2 = []\n",
    "num2 = int(input('Enter size of list 2:'))\n",
    "for n in range(num2):\n",
    "    numbers2 = int(input('Enter any number:'))\n",
    "    l2.append(numbers2)\n",
    "    \n",
    "union=list(set().union(l1,l2))\n",
    "print('the union of the list is:',union)"
   ]
  },
  {
   "cell_type": "code",
   "execution_count": 7,
   "metadata": {},
   "outputs": [
    {
     "name": "stdout",
     "output_type": "stream",
     "text": [
      "Enter size of list 1: 3\n",
      "Enter any number:2\n",
      "Enter any number:3\n",
      "Enter any number:4\n",
      "Enter size of list 2:3\n",
      "Enter any number:4\n",
      "Enter any number:3\n",
      "Enter any number:5\n",
      "[3, 4]\n"
     ]
    }
   ],
   "source": [
    "l1 = []\n",
    "num1 = int(input('Enter size of list 1: '))\n",
    "for n in range(num1):\n",
    "    numbers1 = int(input('Enter any number:'))\n",
    "    l1.append(numbers1)\n",
    " \n",
    "l2 = []\n",
    "num2 = int(input('Enter size of list 2:'))\n",
    "for n in range(num2):\n",
    "    numbers2 = int(input('Enter any number:'))\n",
    "    l2.append(numbers2)\n",
    "inter=list(set(l1)&set(l2))\n",
    "print(inter)"
   ]
  },
  {
   "cell_type": "raw",
   "metadata": {},
   "source": [
    "Python Program to Create a List of Tuples with the First Element as the Number and Second Element as the Square of the Number\n"
   ]
  },
  {
   "cell_type": "code",
   "execution_count": 30,
   "metadata": {},
   "outputs": [
    {
     "name": "stdout",
     "output_type": "stream",
     "text": [
      "enter the lower range: 0\n",
      "enter the upper range: 1\n",
      "[(0, 0), (1, 1)]\n"
     ]
    }
   ],
   "source": [
    "rangelower=int(input('enter the lower range: '))\n",
    "rangeupper=int(input('enter the upper range: '))\n",
    "a=[(x,x**2) for x in range(rangelower,rangeupper+1)]\n",
    "print(a)"
   ]
  },
  {
   "cell_type": "raw",
   "metadata": {},
   "source": [
    "Python Program to Find all Numbers in a Range which are Perfect Squares and Sum of all Digits in the Number is Less than 10"
   ]
  },
  {
   "cell_type": "code",
   "execution_count": 8,
   "metadata": {},
   "outputs": [
    {
     "data": {
      "text/plain": [
       "'10'"
      ]
     },
     "execution_count": 8,
     "metadata": {},
     "output_type": "execute_result"
    }
   ],
   "source": [
    "x=1str(x)"
   ]
  },
  {
   "cell_type": "code",
   "execution_count": 7,
   "metadata": {},
   "outputs": [
    {
     "name": "stdout",
     "output_type": "stream",
     "text": [
      "[1, 0]\n"
     ]
    }
   ],
   "source": [
    "x=10\n",
    "a=list(map(int,str(x)))\n",
    "print(a)"
   ]
  },
  {
   "cell_type": "code",
   "execution_count": 10,
   "metadata": {},
   "outputs": [
    {
     "name": "stdout",
     "output_type": "stream",
     "text": [
      "enter the lower range: 2\n",
      "enter the higher range: 20\n",
      "[4, 9, 16]\n"
     ]
    }
   ],
   "source": [
    "l=int(input('enter the lower range: '))\n",
    "u=int(input('enter the higher range: '))\n",
    "x=[]\n",
    "a=[x for x in range(l,u+1) if(int(x**0.5))**2==x and sum(list(map(int,str(x))))<10]\n",
    "print(a)"
   ]
  },
  {
   "cell_type": "raw",
   "metadata": {},
   "source": [
    "Python Program to Find the Cumulative Sum of a List where the ith Element is the Sum of the First i+1 Elements From The Original List:"
   ]
  },
  {
   "cell_type": "code",
   "execution_count": 14,
   "metadata": {},
   "outputs": [
    {
     "name": "stdout",
     "output_type": "stream",
     "text": [
      "enter the number of elements in list: 3\n",
      "enter element1:4\n",
      "enter element2:5\n",
      "enter element3:6\n",
      "[4, 5, 6]\n"
     ]
    }
   ],
   "source": [
    "a=[]\n",
    "n=int(input('enter the number of elements in list: '))\n",
    "for x in range(0,n):\n",
    "    element=int(input('enter element'+str(x+1) +':'))\n",
    "    a.append(element)\n",
    "print(a)"
   ]
  },
  {
   "cell_type": "code",
   "execution_count": 16,
   "metadata": {},
   "outputs": [
    {
     "name": "stdout",
     "output_type": "stream",
     "text": [
      "enter the number of elements in list: 4\n",
      "enter element1:3\n",
      "enter element2:4\n",
      "enter element3:5\n",
      "enter element4:6\n",
      "the original list: [3, 4, 5, 6]\n",
      "the new list is: [3, 7, 12, 18]\n"
     ]
    }
   ],
   "source": [
    "a=[]\n",
    "n=int(input('enter the number of elements in list: '))\n",
    "for x in range(0,n):\n",
    "    element=int(input('enter element'+str(x+1) +':'))\n",
    "    a.append(element)\n",
    "b=[sum(a[0:x+1]) for x in range(0,len(a))]\n",
    "print('the original list:',a)\n",
    "print('the new list is:',b)"
   ]
  },
  {
   "cell_type": "raw",
   "metadata": {},
   "source": [
    "Python Program to Generate Random Numbers from 1 to 20 and Append Them to the List"
   ]
  },
  {
   "cell_type": "code",
   "execution_count": 18,
   "metadata": {},
   "outputs": [],
   "source": [
    "import random"
   ]
  },
  {
   "cell_type": "code",
   "execution_count": 19,
   "metadata": {},
   "outputs": [
    {
     "name": "stdout",
     "output_type": "stream",
     "text": [
      "enter the number of elements: 4\n",
      "randomised list is:  [3, 2, 16, 1]\n"
     ]
    }
   ],
   "source": [
    "a=[]\n",
    "n=int(input('enter the number of elements: '))\n",
    "for j in range(n):\n",
    "    a.append(random.randint(1,20))\n",
    "print('randomised list is: ',a)"
   ]
  },
  {
   "cell_type": "raw",
   "metadata": {},
   "source": [
    "Python program to Sort a List of Tuples in Increasing Order by the Last Element in Each Tuple:"
   ]
  },
  {
   "cell_type": "code",
   "execution_count": 21,
   "metadata": {
    "scrolled": true
   },
   "outputs": [
    {
     "name": "stdout",
     "output_type": "stream",
     "text": [
      "enter the list of tuples: [(2,5),(3,5),(8,6),(5,3)]\n",
      "sorted ['(', '(', '(', '(', ')', ')', ')', ')', ',', ',', ',', ',', ',', ',', ',', '2', '3', '3', '5', '5', '5', '6', '8', '[', ']']\n"
     ]
    }
   ],
   "source": [
    "a=input('enter the list of tuples: ')\n",
    "def last(n):\n",
    "    return n[-1]\n",
    "def sort(m):\n",
    "    return sorted(m,key=last)\n",
    "print('sorted',sort(a))"
   ]
  },
  {
   "cell_type": "code",
   "execution_count": 22,
   "metadata": {
    "scrolled": true
   },
   "outputs": [
    {
     "name": "stdout",
     "output_type": "stream",
     "text": [
      "Enter a list of tuples:[(2,5),(1,2),(4,4),(2,3)]\n",
      "Sorted:\n",
      "['(', '(', '(', '(', ')', ')', ')', ')', ',', ',', ',', ',', ',', ',', ',', '1', '2', '2', '2', '3', '4', '4', '5', '[', ']']\n"
     ]
    }
   ],
   "source": [
    "def last(n):\n",
    "    return n[-1]  \n",
    " \n",
    "def sort(tuples):\n",
    "    return sorted(tuples, key=last)\n",
    " \n",
    "a=input(\"Enter a list of tuples:\")\n",
    "print(\"Sorted:\")\n",
    "print(sort(a))"
   ]
  },
  {
   "cell_type": "raw",
   "metadata": {},
   "source": [
    "Python Program to Swap the First and Last Value of a List"
   ]
  },
  {
   "cell_type": "code",
   "execution_count": 26,
   "metadata": {},
   "outputs": [
    {
     "name": "stdout",
     "output_type": "stream",
     "text": [
      "enter the number of elements: 4\n",
      "enter the number: 1\n",
      "enter the number: 2\n",
      "enter the number: 3\n",
      "enter the number: 4\n",
      "new list:  [4, 2, 3, 1]\n"
     ]
    }
   ],
   "source": [
    "a=[]\n",
    "n=int(input('enter the number of elements: '))\n",
    "for x in range(0,n):\n",
    "    element=int(input('enter the number: '))\n",
    "    a.append(element)\n",
    "temp=a[0]\n",
    "a[0]=a[n-1]\n",
    "a[n-1]=temp\n",
    "print('new list: ',a)"
   ]
  },
  {
   "cell_type": "markdown",
   "metadata": {},
   "source": [
    "# Python Program to Remove the Duplicate Items from a List"
   ]
  },
  {
   "cell_type": "code",
   "execution_count": 29,
   "metadata": {},
   "outputs": [
    {
     "name": "stdout",
     "output_type": "stream",
     "text": [
      "Enter the number of elements in list:5\n",
      "Enter element1:1\n",
      "Enter element2:1\n",
      "Enter element3:2\n",
      "Enter element4:2\n",
      "Enter element5:3\n",
      "non duplicate items:  [1, 2, 3]\n"
     ]
    }
   ],
   "source": [
    "a=[]\n",
    "n= int(input(\"Enter the number of elements in list:\"))\n",
    "for x in range(0,n):\n",
    "    element=int(input(\"Enter element\" + str(x+1) + \":\"))\n",
    "    a.append(element)\n",
    "b=set()\n",
    "unique=[]\n",
    "for x in a:\n",
    "    if x not in b:\n",
    "        unique.append(x)\n",
    "        b.add(x)\n",
    "print('non duplicate items: ',unique)"
   ]
  },
  {
   "cell_type": "code",
   "execution_count": 9,
   "metadata": {},
   "outputs": [
    {
     "name": "stdout",
     "output_type": "stream",
     "text": [
      "enter the number of elements in the list7\n",
      "enter the number1\n",
      "enter the number2\n",
      "enter the number3\n",
      "enter the number2\n",
      "enter the number3\n",
      "enter the number4\n",
      "enter the number5\n",
      "[1, 2, 3, 2, 3, 4, 5]\n",
      "[1, 2, 3, 4, 5]\n"
     ]
    }
   ],
   "source": [
    "a=[]\n",
    "n=int(input('enter the number of elements in the list'))\n",
    "for i in range(n):\n",
    "    m=int(input('enter the number'))\n",
    "    a.append(m)\n",
    "print(a)\n",
    "b=[]\n",
    "for i in a:\n",
    "    if i not in b:\n",
    "        b.append(i)\n",
    "print(b)"
   ]
  },
  {
   "cell_type": "raw",
   "metadata": {},
   "source": [
    "Python Program to Read a List of Words and Return the Length of the Longest One:"
   ]
  },
  {
   "cell_type": "code",
   "execution_count": 30,
   "metadata": {},
   "outputs": [
    {
     "name": "stdout",
     "output_type": "stream",
     "text": [
      "enter the no of elements: 4\n",
      "enter the element: annona\n",
      "enter the element: aquilin\n",
      "enter the element: alias\n",
      "enter the element: sherly\n",
      "the word with the longestlength is aquilin\n"
     ]
    }
   ],
   "source": [
    "a=[]\n",
    "n=int(input('enter the no of elements: '))\n",
    "for i in range(n):\n",
    "    e=input('enter the element: ')\n",
    "    a.append(e)\n",
    "max1=len(a[0])\n",
    "temp=a[0]\n",
    "for i in a:\n",
    "    if(len(i)>max1):\n",
    "        max1=len(i)\n",
    "        temp=i\n",
    "print('the word with the longestlength is',temp)"
   ]
  },
  {
   "cell_type": "raw",
   "metadata": {},
   "source": [
    "Python Program to Remove the ith Occurrence of the Given Word in a List where Words can Repeat:"
   ]
  },
  {
   "cell_type": "code",
   "execution_count": 31,
   "metadata": {},
   "outputs": [
    {
     "name": "stdout",
     "output_type": "stream",
     "text": [
      "enter the number of elements: 6\n",
      "enter the element: a\n",
      "enter the element: b\n",
      "enter the element: s\n",
      "enter the element: a\n",
      "enter the element: b\n",
      "enter the element: s\n",
      "['a', 'b', 's', 'a', 'b', 's']\n",
      "enter the word to remove: a\n",
      "enter the occurence to remove: 2\n",
      "the updated list is ['a', 'b', 's', 'b', 's']\n"
     ]
    }
   ],
   "source": [
    "a=[]\n",
    "n=int(input('enter the number of elements: '))\n",
    "for x in range(0,n):\n",
    "    element=input('enter the element: ')\n",
    "    a.append(element)\n",
    "print(a)\n",
    "c=[]\n",
    "m=0\n",
    "b=input('enter the word to remove: ')\n",
    "n=int(input('enter the occurence to remove: '))\n",
    "for i in a:\n",
    "    if(i==b):\n",
    "        m=m+1\n",
    "        if(m !=n):\n",
    "            c.append(i)\n",
    "    else:\n",
    "        c.append(i)\n",
    "print('the updated list is',c)\n",
    "    "
   ]
  },
  {
   "cell_type": "code",
   "execution_count": 11,
   "metadata": {},
   "outputs": [
    {
     "name": "stdout",
     "output_type": "stream",
     "text": [
      "enter the number of elements in the list: 5\n",
      "enter the word1:anno\n",
      "enter the word2:aqu\n",
      "enter the word3:anno\n",
      "enter the word4:aqu\n",
      "enter the word5:aqu\n",
      "['anno', 'aqu', 'anno', 'aqu', 'aqu']\n",
      "enter the word to remove: aqu\n",
      "enter the occurence of aqu to remove: 2\n",
      "['anno', 'aqu', 'anno', 'aqu']\n"
     ]
    }
   ],
   "source": [
    "a=[]\n",
    "n=int(input('enter the number of elements in the list: '))\n",
    "for i in range(n):\n",
    "    j=input('enter the word'+str(i+1)+':')\n",
    "    a.append(j)\n",
    "print(a)\n",
    "m=input('enter the word to remove: ')\n",
    "q=int(input('enter the occurence of '+ m +' to remove: '))\n",
    "x=0\n",
    "k=[]\n",
    "for i in a:\n",
    "    if i==m:\n",
    "        x+=1\n",
    "        if x!=q:\n",
    "            k.append(i)\n",
    "    else:\n",
    "        k.append(i)\n",
    "print(k)     "
   ]
  },
  {
   "cell_type": "code",
   "execution_count": null,
   "metadata": {},
   "outputs": [],
   "source": []
  },
  {
   "cell_type": "markdown",
   "metadata": {},
   "source": [
    "# dictionary"
   ]
  },
  {
   "cell_type": "raw",
   "metadata": {},
   "source": [
    "Python Program to Add a Key-Value Pair to the Dictionary:"
   ]
  },
  {
   "cell_type": "code",
   "execution_count": 32,
   "metadata": {},
   "outputs": [
    {
     "name": "stdout",
     "output_type": "stream",
     "text": [
      "enter the key value: 1\n",
      "enter the value: 3\n",
      "{1: 3}\n"
     ]
    }
   ],
   "source": [
    "d={}\n",
    "key=int(input('enter the key value: '))\n",
    "value=int(input('enter the value: '))\n",
    "d.update({key:value})\n",
    "print(d)         "
   ]
  },
  {
   "cell_type": "code",
   "execution_count": 34,
   "metadata": {},
   "outputs": [
    {
     "name": "stdout",
     "output_type": "stream",
     "text": [
      "enter the number of key value pairs: 2\n",
      "enter the key value: 2\n",
      "enter the value: 3\n",
      "enter the key value: 3\n",
      "enter the value: 4\n",
      "{2: 3, 3: 4}\n"
     ]
    }
   ],
   "source": [
    "d={}\n",
    "n=int(input('enter the number of key value pairs: '))\n",
    "for i in range(0,n):\n",
    "    key=int(input('enter the key value: '))\n",
    "    value=int(input('enter the value: '))\n",
    "    d.update({key:value})\n",
    "print(d)    "
   ]
  },
  {
   "cell_type": "code",
   "execution_count": 35,
   "metadata": {},
   "outputs": [
    {
     "name": "stdout",
     "output_type": "stream",
     "text": [
      "enter the key: a\n",
      "key is present\n"
     ]
    }
   ],
   "source": [
    "d={'a':1,'b':2,'c':3}\n",
    "key=input('enter the key: ')\n",
    "if key in d.keys():\n",
    "    print('key is present')\n",
    "else:\n",
    "    print('key not present')"
   ]
  },
  {
   "cell_type": "raw",
   "metadata": {},
   "source": [
    "Python Program to Generate a Dictionary that Contains Numbers (between 1 and n) in the Form (x,x*x)."
   ]
  },
  {
   "cell_type": "code",
   "execution_count": 37,
   "metadata": {},
   "outputs": [
    {
     "name": "stdout",
     "output_type": "stream",
     "text": [
      "enter the number: 9\n"
     ]
    },
    {
     "data": {
      "text/plain": [
       "{0: 0, 1: 1, 2: 4, 3: 9, 4: 16, 5: 25, 6: 36, 7: 49, 8: 64}"
      ]
     },
     "execution_count": 37,
     "metadata": {},
     "output_type": "execute_result"
    }
   ],
   "source": [
    "n=int(input('enter the number: '))\n",
    "d={x:x*x for x in range(n)}\n",
    "d"
   ]
  },
  {
   "cell_type": "raw",
   "metadata": {},
   "source": [
    "Python Program to Sum All the Items in a Dictionary:"
   ]
  },
  {
   "cell_type": "code",
   "execution_count": 39,
   "metadata": {},
   "outputs": [
    {
     "name": "stdout",
     "output_type": "stream",
     "text": [
      "Total sum of values in the dictionary:\n",
      "879\n"
     ]
    }
   ],
   "source": [
    "d={'A':100,'B':540,'C':239}\n",
    "print(\"Total sum of values in the dictionary:\")\n",
    "print(sum(d.values()))\n"
   ]
  },
  {
   "cell_type": "raw",
   "metadata": {},
   "source": [
    "Python Program to Multiply All the Items in a Dictionary\n",
    "This is a Python Program to multiply all the items in a dictionary:"
   ]
  },
  {
   "cell_type": "code",
   "execution_count": 40,
   "metadata": {},
   "outputs": [
    {
     "name": "stdout",
     "output_type": "stream",
     "text": [
      "23900\n"
     ]
    }
   ],
   "source": [
    "d={'A':10,'B':10,'C':239}\n",
    "tot=1\n",
    "for i in d:    \n",
    "    tot=tot*d[i]\n",
    "print(tot)"
   ]
  },
  {
   "cell_type": "raw",
   "metadata": {},
   "source": [
    "Python Program to Remove the Given Key from a Dictionary\n",
    "This is a Python Program to remove the given key from a dictionary:"
   ]
  },
  {
   "cell_type": "code",
   "execution_count": 42,
   "metadata": {},
   "outputs": [
    {
     "name": "stdout",
     "output_type": "stream",
     "text": [
      "Initial dictionary\n",
      "{'a': 1, 'b': 2, 'c': 3, 'd': 4}\n",
      "Enter the key to delete(a-d):a\n",
      "Updated dictionary\n",
      "{'b': 2, 'c': 3, 'd': 4}\n"
     ]
    }
   ],
   "source": [
    "d = {'a':1,'b':2,'c':3,'d':4}\n",
    "print(\"Initial dictionary\")\n",
    "print(d)\n",
    "key=input(\"Enter the key to delete(a-d):\")\n",
    "if key in d: \n",
    "    del d[key]\n",
    "else:\n",
    "    print(\"Key not found!\")\n",
    "    exit(0)\n",
    "print(\"Updated dictionary\")\n",
    "print(d)"
   ]
  },
  {
   "cell_type": "raw",
   "metadata": {},
   "source": [
    "Python Program to Map Two Lists into a Dictionary:"
   ]
  },
  {
   "cell_type": "code",
   "execution_count": 43,
   "metadata": {},
   "outputs": [
    {
     "name": "stdout",
     "output_type": "stream",
     "text": [
      "Enter number of elements for dictionary:2\n",
      "For keys:\n",
      "Enter element1:2\n",
      "Enter element2:3\n",
      "For values:\n",
      "Enter element1:3\n",
      "Enter element2:2\n",
      "The dictionary is:\n",
      "{2: 3, 3: 2}\n"
     ]
    }
   ],
   "source": [
    "keys=[]\n",
    "values=[]\n",
    "n=int(input(\"Enter number of elements for dictionary:\"))\n",
    "print(\"For keys:\")\n",
    "for x in range(0,n):\n",
    "    element=int(input(\"Enter element\" + str(x+1) + \":\"))\n",
    "    keys.append(element)\n",
    "print(\"For values:\")\n",
    "for x in range(0,n):\n",
    "    element=int(input(\"Enter element\" + str(x+1) + \":\"))\n",
    "    values.append(element)\n",
    "d=dict(zip(keys,values))\n",
    "print(\"The dictionary is:\")\n",
    "print(d)"
   ]
  },
  {
   "cell_type": "code",
   "execution_count": 1,
   "metadata": {},
   "outputs": [
    {
     "name": "stdout",
     "output_type": "stream",
     "text": [
      "enter the number of key value pairs needed:2\n",
      "for keys:\n",
      "enter the key: anno\n",
      "enter the value: 1\n",
      "enter the key: aqu\n",
      "enter the value: 2\n",
      "['anno', 'aqu']\n",
      "['1', '2']\n"
     ]
    },
    {
     "data": {
      "text/plain": [
       "{'anno': '1', 'aqu': '2'}"
      ]
     },
     "execution_count": 1,
     "metadata": {},
     "output_type": "execute_result"
    }
   ],
   "source": [
    "k=[]\n",
    "v=[]\n",
    "n=int(input('enter the number of key value pairs needed:'))\n",
    "print('for keys:')\n",
    "for i in range(n):\n",
    "    key=input('enter the key: ')\n",
    "    k.append(key)\n",
    "    value=input('enter the value: ')\n",
    "    v.append(value)\n",
    "print(k)\n",
    "print(v)\n",
    "d=dict(zip(k,v))\n",
    "d"
   ]
  },
  {
   "cell_type": "raw",
   "metadata": {},
   "source": [
    "Python Program to Count the Frequency of Words Appearing in a String Using a Dictionary:"
   ]
  },
  {
   "cell_type": "code",
   "execution_count": 44,
   "metadata": {},
   "outputs": [
    {
     "name": "stdout",
     "output_type": "stream",
     "text": [
      "enter a string: anno alias aquilin alias\n"
     ]
    },
    {
     "data": {
      "text/plain": [
       "['anno', 'alias', 'aquilin', 'alias']"
      ]
     },
     "execution_count": 44,
     "metadata": {},
     "output_type": "execute_result"
    }
   ],
   "source": [
    "string=input('enter a string: ')\n",
    "l=[]\n",
    "l=string.split()\n",
    "l"
   ]
  },
  {
   "cell_type": "code",
   "execution_count": 45,
   "metadata": {},
   "outputs": [
    {
     "name": "stdout",
     "output_type": "stream",
     "text": [
      "enter a string: anno alias anno aqu alias\n",
      "{'anno': 2, 'alias': 2, 'aqu': 1}\n"
     ]
    }
   ],
   "source": [
    "string=input('enter a string: ')\n",
    "l=[]\n",
    "l=string.split()\n",
    "wordfrq=[l.count(p) for p in l]\n",
    "print(dict(zip(l,wordfrq)))"
   ]
  },
  {
   "cell_type": "raw",
   "metadata": {},
   "source": [
    "Python Program to Create a Dictionary with Key as First Character and Value as Words Starting with that Character:"
   ]
  },
  {
   "cell_type": "code",
   "execution_count": null,
   "metadata": {},
   "outputs": [],
   "source": []
  },
  {
   "cell_type": "markdown",
   "metadata": {},
   "source": [
    "# Python Programming Examples on Mathematical Functions:"
   ]
  },
  {
   "cell_type": "code",
   "execution_count": null,
   "metadata": {},
   "outputs": [],
   "source": []
  },
  {
   "cell_type": "markdown",
   "metadata": {},
   "source": [
    "w3:schools:https://www.w3resource.com/python-exercises/"
   ]
  },
  {
   "cell_type": "markdown",
   "metadata": {},
   "source": [
    "# Print a list after removing specified elements"
   ]
  },
  {
   "cell_type": "raw",
   "metadata": {},
   "source": [
    "Write a Python program to print a specified list after removing the 0th, 4th and 5th elements."
   ]
  },
  {
   "cell_type": "code",
   "execution_count": 2,
   "metadata": {},
   "outputs": [
    {
     "data": {
      "text/plain": [
       "['Green', 'White', 'Black']"
      ]
     },
     "execution_count": 2,
     "metadata": {},
     "output_type": "execute_result"
    }
   ],
   "source": [
    "color = ['Red', 'Green', 'White', 'Black', 'Pink', 'Yellow']\n",
    "color=[x for (i,x) in enumerate(color) if i not in (0,4,5) ]\n",
    "color"
   ]
  },
  {
   "cell_type": "raw",
   "metadata": {},
   "source": [
    "programme to remove duplicates from matrix;"
   ]
  },
  {
   "cell_type": "code",
   "execution_count": 3,
   "metadata": {},
   "outputs": [
    {
     "name": "stdout",
     "output_type": "stream",
     "text": [
      "[[], [], []]\n"
     ]
    }
   ],
   "source": [
    "test_list = [[5, 6, 8], [8, 5, 3], [9, 10, 3]] \n",
    "res=[]\n",
    "track=[]\n",
    "count=0\n",
    "for i in test_list:\n",
    "    res.append([])\n",
    "print(res)"
   ]
  },
  {
   "cell_type": "code",
   "execution_count": 7,
   "metadata": {},
   "outputs": [
    {
     "name": "stdout",
     "output_type": "stream",
     "text": [
      "[[5, 6, 8], [3], [9, 10]]\n"
     ]
    }
   ],
   "source": [
    "test_list = [[5, 6, 8], [8, 5, 3], [9, 10, 3]] \n",
    "res=[]\n",
    "track=[]\n",
    "count=0\n",
    "for i in test_list:\n",
    "    res.append([])\n",
    "    for ele in i:\n",
    "        if ele not in track:\n",
    "            res[count].append(ele)\n",
    "            track.append(ele)\n",
    "    count+=1\n",
    "print(res)"
   ]
  },
  {
   "cell_type": "raw",
   "metadata": {},
   "source": [
    "programme to remove multiple characters at once:"
   ]
  },
  {
   "cell_type": "code",
   "execution_count": 10,
   "metadata": {},
   "outputs": [
    {
     "data": {
      "text/plain": [
       "'baabaab'"
      ]
     },
     "execution_count": 10,
     "metadata": {},
     "output_type": "execute_result"
    }
   ],
   "source": [
    "test_str = \"abbabba\"\n",
    "res = test_str.replace('a', '%temp%').replace('b', 'a').replace('%temp%', 'b')\n",
    "res"
   ]
  },
  {
   "cell_type": "raw",
   "metadata": {},
   "source": [
    "Write a program that accepts a sequence of whitespace separated words as input and prints the words after removing all duplicate words and sorting them alphanumerically."
   ]
  },
  {
   "cell_type": "code",
   "execution_count": 12,
   "metadata": {},
   "outputs": [
    {
     "name": "stdout",
     "output_type": "stream",
     "text": [
      "enter the word: annona elizabeth alias\n",
      "alias annona elizabeth\n"
     ]
    }
   ],
   "source": [
    "s=input('enter the word: ')\n",
    "words=[word for word in s.split(' ')]\n",
    "print(' '.join(sorted(list(set(words)))))"
   ]
  },
  {
   "cell_type": "raw",
   "metadata": {},
   "source": [
    "Write a Python program to find numbers between 2000 and 3000 (both included) where each digit of a number is an even number. The numbers obtained should be printed in a comma-separated sequence."
   ]
  },
  {
   "cell_type": "code",
   "execution_count": 14,
   "metadata": {},
   "outputs": [
    {
     "name": "stdout",
     "output_type": "stream",
     "text": [
      "2000,2002,2004,2006,2008,2020,2022,2024,2026,2028,2040,2042,2044,2046,2048,2060,2062,2064,2066,2068,2080,2082,2084,2086,2088,2200,2202,2204,2206,2208,2220,2222,2224,2226,2228,2240,2242,2244,2246,2248,2260,2262,2264,2266,2268,2280,2282,2284,2286,2288,2400,2402,2404,2406,2408,2420,2422,2424,2426,2428,2440,2442,2444,2446,2448,2460,2462,2464,2466,2468,2480,2482,2484,2486,2488,2600,2602,2604,2606,2608,2620,2622,2624,2626,2628,2640,2642,2644,2646,2648,2660,2662,2664,2666,2668,2680,2682,2684,2686,2688,2800,2802,2804,2806,2808,2820,2822,2824,2826,2828,2840,2842,2844,2846,2848,2860,2862,2864,2866,2868,2880,2882,2884,2886,2888\n"
     ]
    }
   ],
   "source": [
    "items=[]\n",
    "for i in range(2000,3001):\n",
    "    s=str(i)\n",
    "    if (int(s[0])%2==0) and (int(s[1])%2==0) and (int(s[2])%2==0) and (int(s[3])%2==0):\n",
    "        items.append((s))\n",
    "print(','.join(items))"
   ]
  },
  {
   "cell_type": "code",
   "execution_count": 15,
   "metadata": {},
   "outputs": [
    {
     "name": "stdout",
     "output_type": "stream",
     "text": [
      "The original string is : Geeks\n",
      "All substrings of string are : ['G', 'Ge', 'Gee', 'Geek', 'Geeks', 'e', 'ee', 'eek', 'eeks', 'e', 'ek', 'eks', 'k', 'ks', 's']\n"
     ]
    }
   ],
   "source": [
    "test_str = \"Geeks\"\n",
    "  \n",
    "# printing original string  \n",
    "print(\"The original string is : \" + str(test_str)) \n",
    "  \n",
    "# Get all substrings of string \n",
    "# Using list comprehension + string slicing \n",
    "res = [test_str[i: j] for i in range(len(test_str)) \n",
    "          for j in range(i + 1, len(test_str) + 1)] \n",
    "  \n",
    "# printing result  \n",
    "print(\"All substrings of string are : \" + str(res)) "
   ]
  },
  {
   "cell_type": "raw",
   "metadata": {},
   "source": [
    "Write a Python program which takes two digits m (row) and n (column) as input and generates a two-dimensional array. The element value in the i-th row and j-th column of the array should be i*j."
   ]
  },
  {
   "cell_type": "code",
   "execution_count": 16,
   "metadata": {},
   "outputs": [
    {
     "name": "stdout",
     "output_type": "stream",
     "text": [
      "Input number of rows: 3\n",
      "Input number of columns: 4\n",
      "[[0, 0, 0, 0], [0, 1, 2, 3], [0, 2, 4, 6]]\n"
     ]
    }
   ],
   "source": [
    "row_num = int(input(\"Input number of rows: \"))\n",
    "col_num = int(input(\"Input number of columns: \"))\n",
    "multi_list = [[0 for col in range(col_num)] for row in range(row_num)]\n",
    "\n",
    "for row in range(row_num):\n",
    "    for col in range(col_num):\n",
    "        multi_list[row][col]= row*col\n",
    "\n",
    "print(multi_list)"
   ]
  },
  {
   "cell_type": "code",
   "execution_count": 23,
   "metadata": {},
   "outputs": [
    {
     "name": "stdout",
     "output_type": "stream",
     "text": [
      "Enter values for row and column number: 3,4\n",
      "[0, 0, 0, 0]\n",
      "[0, 1, 2, 3]\n",
      "[0, 2, 4, 6]\n",
      "\n",
      "[[0, 0, 0, 0], [0, 1, 2, 3], [0, 2, 4, 6]]\n"
     ]
    }
   ],
   "source": [
    "user_input = input(\"Enter values for row and column number: \")\n",
    "rows, cols = user_input.split(\",\")\n",
    "rows = int(rows)\n",
    "cols = int(cols)\n",
    "\n",
    "grid = []\n",
    "for x in range(rows):\n",
    "    row = []\n",
    "    for y in range(cols):\n",
    "        row.append(x * y)\n",
    "    grid.append(row)\n",
    "    print(row)\n",
    "\n",
    "print()\n",
    "print(grid)"
   ]
  },
  {
   "cell_type": "code",
   "execution_count": null,
   "metadata": {},
   "outputs": [],
   "source": []
  },
  {
   "cell_type": "code",
   "execution_count": 24,
   "metadata": {},
   "outputs": [
    {
     "name": "stdout",
     "output_type": "stream",
     "text": [
      "['T', 'i', 'p', 'B']\n"
     ]
    }
   ],
   "source": [
    "mystring = \"This is programs Buzz\" \n",
    "mylist = [word[0] for word in mystring.split()]\n",
    "print(mylist)"
   ]
  },
  {
   "cell_type": "raw",
   "metadata": {},
   "source": [
    "With a given tuple (1,2,3,4,5,6,7,8,9,10), write a program to print the first half values in one line and the last half values in one line."
   ]
  },
  {
   "cell_type": "code",
   "execution_count": 26,
   "metadata": {},
   "outputs": [
    {
     "name": "stdout",
     "output_type": "stream",
     "text": [
      "(1, 2, 3, 4, 5)\n",
      "(6, 7, 8, 9, 10)\n"
     ]
    }
   ],
   "source": [
    "tp = (1,2,3,4,5,6,7,8,9,10)\n",
    "tp1 = tp[:5]\n",
    "tp2 = tp[5:]\n",
    "print(tp1)\n",
    "print(tp2)"
   ]
  },
  {
   "cell_type": "code",
   "execution_count": null,
   "metadata": {},
   "outputs": [],
   "source": [
    "python programme to generate  A "
   ]
  },
  {
   "cell_type": "code",
   "execution_count": 3,
   "metadata": {},
   "outputs": [
    {
     "data": {
      "text/plain": [
       "[12, 35, 67]"
      ]
     },
     "execution_count": 3,
     "metadata": {},
     "output_type": "execute_result"
    }
   ],
   "source": [
    "lst=[12,24,35,67]\n",
    "lst1=[x for x in lst if x != 24]\n",
    "lst1\n"
   ]
  },
  {
   "cell_type": "code",
   "execution_count": 5,
   "metadata": {},
   "outputs": [
    {
     "name": "stdout",
     "output_type": "stream",
     "text": [
      "[7, 27]\n"
     ]
    }
   ],
   "source": [
    "num = [7,8, 120, 25, 44, 20, 27]\n",
    "num = [x for x in num if x%2!=0 and  x%5!=0]\n",
    "print(num)"
   ]
  },
  {
   "cell_type": "code",
   "execution_count": 6,
   "metadata": {},
   "outputs": [],
   "source": [
    "import numpy as np"
   ]
  },
  {
   "cell_type": "code",
   "execution_count": null,
   "metadata": {},
   "outputs": [],
   "source": []
  },
  {
   "cell_type": "code",
   "execution_count": 8,
   "metadata": {},
   "outputs": [
    {
     "data": {
      "text/plain": [
       "array([[0.72261016, 0.97498755, 0.86386783, 0.29692116, 0.97864531],\n",
       "       [0.49047507, 0.12683383, 0.29514826, 0.73872111, 0.6969089 ],\n",
       "       [0.62191031, 0.85770869, 0.19318855, 0.80991247, 0.12468187],\n",
       "       [0.69194409, 0.88323109, 0.98562502, 0.68483374, 0.52257606],\n",
       "       [0.33118895, 0.92997717, 0.36923791, 0.07411425, 0.69026643]])"
      ]
     },
     "execution_count": 8,
     "metadata": {},
     "output_type": "execute_result"
    }
   ],
   "source": [
    "np.random.rand(5,5)"
   ]
  },
  {
   "cell_type": "code",
   "execution_count": 9,
   "metadata": {},
   "outputs": [
    {
     "data": {
      "text/plain": [
       "array([], shape=(0, 50, 10), dtype=float64)"
      ]
     },
     "execution_count": 9,
     "metadata": {},
     "output_type": "execute_result"
    }
   ],
   "source": [
    "np.random.rand(0,50,10)"
   ]
  },
  {
   "cell_type": "code",
   "execution_count": 11,
   "metadata": {},
   "outputs": [
    {
     "data": {
      "text/plain": [
       "array([37, 23, 45,  7, 22,  7, 22, 11, 43,  3])"
      ]
     },
     "execution_count": 11,
     "metadata": {},
     "output_type": "execute_result"
    }
   ],
   "source": [
    "\n",
    "s=np.random.randint(0,50,10)\n",
    "s\n"
   ]
  },
  {
   "cell_type": "code",
   "execution_count": 13,
   "metadata": {},
   "outputs": [
    {
     "data": {
      "text/plain": [
       "array([[37, 23],\n",
       "       [45,  7],\n",
       "       [22,  7],\n",
       "       [22, 11],\n",
       "       [43,  3]])"
      ]
     },
     "execution_count": 13,
     "metadata": {},
     "output_type": "execute_result"
    }
   ],
   "source": [
    "s.reshape((5, 2))\n"
   ]
  },
  {
   "cell_type": "code",
   "execution_count": 16,
   "metadata": {},
   "outputs": [
    {
     "ename": "TypeError",
     "evalue": "int() argument must be a string, a bytes-like object or a number, not 'range'",
     "output_type": "error",
     "traceback": [
      "\u001b[1;31m---------------------------------------------------------------------------\u001b[0m",
      "\u001b[1;31mTypeError\u001b[0m                                 Traceback (most recent call last)",
      "\u001b[1;32m<ipython-input-16-a3463b0a8365>\u001b[0m in \u001b[0;36m<module>\u001b[1;34m\u001b[0m\n\u001b[1;32m----> 1\u001b[1;33m \u001b[0ms\u001b[0m\u001b[1;33m=\u001b[0m\u001b[0mnp\u001b[0m\u001b[1;33m.\u001b[0m\u001b[0mrandom\u001b[0m\u001b[1;33m.\u001b[0m\u001b[0mrandint\u001b[0m\u001b[1;33m(\u001b[0m\u001b[0mrange\u001b[0m\u001b[1;33m(\u001b[0m\u001b[1;36m10\u001b[0m\u001b[1;33m)\u001b[0m\u001b[1;33m)\u001b[0m\u001b[1;33m\u001b[0m\u001b[1;33m\u001b[0m\u001b[0m\n\u001b[0m\u001b[0;32m      2\u001b[0m \u001b[0ms\u001b[0m\u001b[1;33m\u001b[0m\u001b[1;33m\u001b[0m\u001b[0m\n",
      "\u001b[1;32mmtrand.pyx\u001b[0m in \u001b[0;36mmtrand.RandomState.randint\u001b[1;34m()\u001b[0m\n",
      "\u001b[1;31mTypeError\u001b[0m: int() argument must be a string, a bytes-like object or a number, not 'range'"
     ]
    }
   ],
   "source": [
    "s=np.random.randint(range(10))\n",
    "s"
   ]
  },
  {
   "cell_type": "code",
   "execution_count": 17,
   "metadata": {},
   "outputs": [],
   "source": [
    "import array as ar"
   ]
  },
  {
   "cell_type": "code",
   "execution_count": 21,
   "metadata": {},
   "outputs": [
    {
     "data": {
      "text/plain": [
       "array('i', [0, 1, 2, 3, 4, 5, 6, 7, 8, 9])"
      ]
     },
     "execution_count": 21,
     "metadata": {},
     "output_type": "execute_result"
    }
   ],
   "source": [
    "s=ar.array\n",
    "s"
   ]
  },
  {
   "cell_type": "code",
   "execution_count": 22,
   "metadata": {},
   "outputs": [
    {
     "data": {
      "text/plain": [
       "array([6, 8, 5, 1, 6, 3, 0, 7, 9, 5])"
      ]
     },
     "execution_count": 22,
     "metadata": {},
     "output_type": "execute_result"
    }
   ],
   "source": [
    "s=np.random.randint(0,10,10)\n",
    "s\n"
   ]
  },
  {
   "cell_type": "code",
   "execution_count": 23,
   "metadata": {},
   "outputs": [
    {
     "data": {
      "text/plain": [
       "9"
      ]
     },
     "execution_count": 23,
     "metadata": {},
     "output_type": "execute_result"
    }
   ],
   "source": [
    "s[8]"
   ]
  },
  {
   "cell_type": "code",
   "execution_count": 26,
   "metadata": {},
   "outputs": [],
   "source": [
    "arr = np.arange(0, 10, 2)"
   ]
  },
  {
   "cell_type": "code",
   "execution_count": 27,
   "metadata": {},
   "outputs": [
    {
     "data": {
      "text/plain": [
       "array([0, 2, 4, 6, 8])"
      ]
     },
     "execution_count": 27,
     "metadata": {},
     "output_type": "execute_result"
    }
   ],
   "source": [
    "arr"
   ]
  },
  {
   "cell_type": "raw",
   "metadata": {},
   "source": [
    "Python Program to Compute Prime Factors of an Integer"
   ]
  },
  {
   "cell_type": "code",
   "execution_count": 2,
   "metadata": {},
   "outputs": [
    {
     "name": "stdout",
     "output_type": "stream",
     "text": [
      "Enter an integer:50\n",
      "Factors are:\n",
      "2\n",
      "5\n"
     ]
    }
   ],
   "source": [
    "n=int(input(\"Enter an integer:\"))\n",
    "print(\"Factors are:\")\n",
    "i=1\n",
    "while(i<=n):\n",
    "    k=0\n",
    "    if(n%i==0):\n",
    "        j=1\n",
    "        while(j<=i):\n",
    "            if(i%j==0):\n",
    "                k=k+1\n",
    "            j=j+1\n",
    "        if(k==2):\n",
    "            print(i)\n",
    "    i=i+1"
   ]
  },
  {
   "cell_type": "raw",
   "metadata": {},
   "source": [
    "Python Program to Generate all the Divisors of an Integer"
   ]
  },
  {
   "cell_type": "code",
   "execution_count": 3,
   "metadata": {},
   "outputs": [
    {
     "name": "stdout",
     "output_type": "stream",
     "text": [
      "Enter an integer:70\n",
      "The divisors of the number are:\n",
      "1\n",
      "2\n",
      "5\n",
      "7\n",
      "10\n",
      "14\n",
      "35\n",
      "70\n"
     ]
    }
   ],
   "source": [
    "n=int(input(\"Enter an integer:\"))\n",
    "print(\"The divisors of the number are:\")\n",
    "for i in range(1,n+1):\n",
    "    if(n%i==0):\n",
    "        print(i)"
   ]
  },
  {
   "cell_type": "raw",
   "metadata": {},
   "source": [
    "Python Program to Print Table of a Given Number"
   ]
  },
  {
   "cell_type": "code",
   "execution_count": 4,
   "metadata": {},
   "outputs": [
    {
     "name": "stdout",
     "output_type": "stream",
     "text": [
      "Enter the number to print the tables for:8\n",
      "8 x 1 = 8\n",
      "8 x 2 = 16\n",
      "8 x 3 = 24\n",
      "8 x 4 = 32\n",
      "8 x 5 = 40\n",
      "8 x 6 = 48\n",
      "8 x 7 = 56\n",
      "8 x 8 = 64\n",
      "8 x 9 = 72\n",
      "8 x 10 = 80\n"
     ]
    }
   ],
   "source": [
    "n=int(input(\"Enter the number to print the tables for:\"))\n",
    "for i in range(1,11):\n",
    "    print(n,\"x\",i,\"=\",n*i)"
   ]
  },
  {
   "cell_type": "raw",
   "metadata": {},
   "source": [
    "Python Program to Print Sum of Negative Numbers, Positive Even Numbers and Positive Odd numbers in a List.\n"
   ]
  },
  {
   "cell_type": "code",
   "execution_count": 5,
   "metadata": {},
   "outputs": [
    {
     "name": "stdout",
     "output_type": "stream",
     "text": [
      "Enter the number of elements to be in the list:5\n",
      "Element: 6\n",
      "Element: 8\n",
      "Element: 7\n",
      "Element: 7\n",
      "Element: 8\n",
      "Sum of all positive even numbers: 22\n",
      "Sum of all positive odd numbers: 14\n"
     ]
    }
   ],
   "source": [
    "n=int(input(\"Enter the number of elements to be in the list:\"))\n",
    "b=[]\n",
    "for i in range(0,n):\n",
    "    a=int(input(\"Element: \"))\n",
    "    b.append(a)\n",
    "sum1=0\n",
    "sum2=0\n",
    "sum3=0\n",
    "for j in b:\n",
    "    if(j>0):\n",
    "        if(j%2==0):\n",
    "            sum1=sum1+j\n",
    "        else:\n",
    "            sum2=sum2+j\n",
    "    else:\n",
    "        sum3=sum3+j\n",
    "print(\"Sum of all positive even numbers:\",sum1)\n",
    "print(\"Sum of all positive odd numbers:\",sum2)"
   ]
  },
  {
   "cell_type": "raw",
   "metadata": {},
   "source": [
    " Python Program to print the sum of negative numbers, positive even numbers and positive odd numbers in a given list."
   ]
  },
  {
   "cell_type": "code",
   "execution_count": 6,
   "metadata": {},
   "outputs": [
    {
     "name": "stdout",
     "output_type": "stream",
     "text": [
      "Enter the number of elements to be in the list:3\n",
      "Element: 4\n",
      "Element: 7\n",
      "Element: 8\n",
      "Sum of all positive even numbers: 12\n",
      "Sum of all positive odd numbers: 7\n",
      "Sum of all negative numbers: 0\n"
     ]
    }
   ],
   "source": [
    "n=int(input(\"Enter the number of elements to be in the list:\"))\n",
    "b=[]\n",
    "for i in range(0,n):\n",
    "    a=int(input(\"Element: \"))\n",
    "    b.append(a)\n",
    "sum1=0\n",
    "sum2=0\n",
    "sum3=0\n",
    "for j in b:\n",
    "    if(j>0):\n",
    "        if(j%2==0):\n",
    "            sum1=sum1+j\n",
    "        else:\n",
    "            sum2=sum2+j\n",
    "    else:\n",
    "        sum3=sum3+j\n",
    "print(\"Sum of all positive even numbers:\",sum1)\n",
    "print(\"Sum of all positive odd numbers:\",sum2)\n",
    "print(\"Sum of all negative numbers:\",sum3)\n"
   ]
  },
  {
   "cell_type": "raw",
   "metadata": {},
   "source": [
    "\n",
    "Python Program to Print Largest Even and Largest Odd Number in a List"
   ]
  },
  {
   "cell_type": "code",
   "execution_count": 7,
   "metadata": {},
   "outputs": [
    {
     "name": "stdout",
     "output_type": "stream",
     "text": [
      "Enter the number of elements to be in the list:5\n",
      "Element: 3\n",
      "Element: 4\n",
      "Element: 5\n",
      "Element: 6\n",
      "Element: 7\n",
      "Largest even number: 6\n",
      "Largest odd number 7\n"
     ]
    }
   ],
   "source": [
    "n=int(input(\"Enter the number of elements to be in the list:\"))\n",
    "b=[]\n",
    "for i in range(0,n):\n",
    "    a=int(input(\"Element: \"))\n",
    "    b.append(a)\n",
    "c=[]\n",
    "d=[]\n",
    "for i in b:\n",
    "    if(i%2==0):\n",
    "        c.append(i)\n",
    "    else:\n",
    "        d.append(i)\n",
    "c.sort()\n",
    "d.sort()\n",
    "count1=0\n",
    "count2=0\n",
    "for k in c:\n",
    "    count1=count1+1\n",
    "for j in d:\n",
    "    count2=count2+1\n",
    "print(\"Largest even number:\",c[count1-1])\n",
    "print(\"Largest odd number\",d[count2-1])"
   ]
  },
  {
   "cell_type": "raw",
   "metadata": {},
   "source": [
    "Python Program to Find Those Numbers which are Divisible by 7 and Multiple of 5 in a Given Range of Numbers"
   ]
  },
  {
   "cell_type": "code",
   "execution_count": 8,
   "metadata": {},
   "outputs": [
    {
     "name": "stdout",
     "output_type": "stream",
     "text": [
      "Enter the lower range:6\n",
      "Enter the upper range:90\n",
      "35\n",
      "70\n"
     ]
    }
   ],
   "source": [
    "lower=int(input(\"Enter the lower range:\"))\n",
    "upper=int(input(\"Enter the upper range:\"))\n",
    "for i in range (lower,upper+1):\n",
    "    if(i%7==0 and i%5==0):\n",
    "        print(i)"
   ]
  },
  {
   "cell_type": "raw",
   "metadata": {},
   "source": [
    "Python Program to Check if a Number is an Armstrong Number"
   ]
  },
  {
   "cell_type": "code",
   "execution_count": 9,
   "metadata": {},
   "outputs": [
    {
     "name": "stdout",
     "output_type": "stream",
     "text": [
      "Enter any number: 9\n",
      "The number isn't an arsmtrong number. \n"
     ]
    }
   ],
   "source": [
    "n=int(input(\"Enter any number: \"))\n",
    "a=list(map(int,str(n)))\n",
    "b=list(map(lambda x:x**3,a))\n",
    "if(sum(b)==n):\n",
    "    print(\"The number is an armstrong number. \")\n",
    "else:\n",
    "    print(\"The number isn't an arsmtrong number. \")"
   ]
  },
  {
   "cell_type": "raw",
   "metadata": {},
   "source": [
    "Python Program to Find the LCM of Two Numbers"
   ]
  },
  {
   "cell_type": "code",
   "execution_count": 10,
   "metadata": {},
   "outputs": [
    {
     "name": "stdout",
     "output_type": "stream",
     "text": [
      "Enter the first number:8\n",
      "Enter the second number:23\n",
      "LCM is: 184\n"
     ]
    }
   ],
   "source": [
    "a=int(input(\"Enter the first number:\"))\n",
    "b=int(input(\"Enter the second number:\"))\n",
    "if(a>b):\n",
    "    min1=a\n",
    "else:\n",
    "    min1=b\n",
    "while(1):\n",
    "    if(min1%a==0 and min1%b==0):\n",
    "        print(\"LCM is:\",min1)\n",
    "        break\n",
    "    min1=min1+1"
   ]
  },
  {
   "cell_type": "raw",
   "metadata": {},
   "source": [
    "Python Program to find the area of a triangle given all three sides."
   ]
  },
  {
   "cell_type": "code",
   "execution_count": 11,
   "metadata": {},
   "outputs": [
    {
     "name": "stdout",
     "output_type": "stream",
     "text": [
      "Enter first side: 6\n",
      "Enter second side: 7\n",
      "Enter third side: 8\n",
      "Area of the triangle is:  20.33\n"
     ]
    }
   ],
   "source": [
    "import math\n",
    "a=int(input(\"Enter first side: \"))\n",
    "b=int(input(\"Enter second side: \"))\n",
    "c=int(input(\"Enter third side: \"))\n",
    "s=(a+b+c)/2\n",
    "area=math.sqrt(s*(s-a)*(s-b)*(s-c))\n",
    "print(\"Area of the triangle is: \",round(area,2))"
   ]
  },
  {
   "cell_type": "raw",
   "metadata": {},
   "source": [
    "Python Program to Find the Gravitational Force Acting Between Two Objects"
   ]
  },
  {
   "cell_type": "code",
   "execution_count": 12,
   "metadata": {},
   "outputs": [
    {
     "name": "stdout",
     "output_type": "stream",
     "text": [
      "Enter the first mass: 7\n",
      "Enter the second mass: 8\n",
      "Enter the distance between the centres of the masses: 6\n",
      "Hence, the gravitational force is:  0.0 N\n"
     ]
    }
   ],
   "source": [
    "m1=float(input(\"Enter the first mass: \"))\n",
    "m2=float(input(\"Enter the second mass: \"))\n",
    "r=float(input(\"Enter the distance between the centres of the masses: \"))\n",
    "G=6.673*(10**-11)\n",
    "f=(G*m1*m2)/(r**2)\n",
    "print(\"Hence, the gravitational force is: \",round(f,2),\"N\")"
   ]
  },
  {
   "cell_type": "raw",
   "metadata": {},
   "source": [
    "Python Program to Check if a Number is a Prime Number"
   ]
  },
  {
   "cell_type": "code",
   "execution_count": 13,
   "metadata": {},
   "outputs": [
    {
     "name": "stdout",
     "output_type": "stream",
     "text": [
      "Enter number: 7\n",
      "Number is prime\n"
     ]
    }
   ],
   "source": [
    "a=int(input(\"Enter number: \"))\n",
    "k=0\n",
    "for i in range(2,a//2+1):\n",
    "    if(a%i==0):\n",
    "        k=k+1\n",
    "if(k<=0):\n",
    "    print(\"Number is prime\")\n",
    "else:\n",
    "    print(\"Number isn't prime\")\n",
    "    "
   ]
  },
  {
   "cell_type": "raw",
   "metadata": {},
   "source": [
    "Python Program to Print all the Prime Numbers within a Given Range"
   ]
  },
  {
   "cell_type": "code",
   "execution_count": 14,
   "metadata": {},
   "outputs": [
    {
     "name": "stdout",
     "output_type": "stream",
     "text": [
      "Enter upper limit: 9\n",
      "2\n",
      "3\n",
      "5\n",
      "7\n"
     ]
    }
   ],
   "source": [
    "r=int(input(\"Enter upper limit: \"))\n",
    "for a in range(2,r+1):\n",
    "    k=0\n",
    "    for i in range(2,a//2+1):\n",
    "        if(a%i==0):\n",
    "            k=k+1\n",
    "    if(k<=0):\n",
    "        print(a)"
   ]
  },
  {
   "cell_type": "raw",
   "metadata": {},
   "source": [
    "Python Program to Find the Sum of First N Natural Numbers"
   ]
  },
  {
   "cell_type": "code",
   "execution_count": 15,
   "metadata": {},
   "outputs": [
    {
     "name": "stdout",
     "output_type": "stream",
     "text": [
      "Enter a number: 8\n",
      "The sum of first n natural numbers is 36\n"
     ]
    }
   ],
   "source": [
    "n=int(input(\"Enter a number: \"))\n",
    "sum1 = 0\n",
    "while(n > 0):\n",
    "    sum1=sum1+n\n",
    "    n=n-1\n",
    "print(\"The sum of first n natural numbers is\",sum1)"
   ]
  },
  {
   "cell_type": "raw",
   "metadata": {},
   "source": [
    "Python Program to Search the Number of Times a Particular Number Occurs in a List"
   ]
  },
  {
   "cell_type": "code",
   "execution_count": 16,
   "metadata": {},
   "outputs": [
    {
     "name": "stdout",
     "output_type": "stream",
     "text": [
      "Enter number of elements:7\n",
      "Enter element:5\n",
      "Enter element:7\n",
      "Enter element:7\n",
      "Enter element:8\n",
      "Enter element:9\n",
      "Enter element:8\n",
      "Enter element:7\n",
      "Enter the number to be counted:7\n",
      "Number of times 7 appears is 3\n"
     ]
    }
   ],
   "source": [
    "a=[]\n",
    "n=int(input(\"Enter number of elements:\"))\n",
    "for i in range(1,n+1):\n",
    "    b=int(input(\"Enter element:\"))\n",
    "    a.append(b)\n",
    "k=0\n",
    "num=int(input(\"Enter the number to be counted:\"))\n",
    "for j in a:\n",
    "    if(j==num):\n",
    "        k=k+1\n",
    "print(\"Number of times\",num,\"appears is\",k)"
   ]
  },
  {
   "cell_type": "raw",
   "metadata": {},
   "source": [
    "Python Program to Find Whether a Number is a Power of Two\n"
   ]
  },
  {
   "cell_type": "code",
   "execution_count": 17,
   "metadata": {},
   "outputs": [
    {
     "ename": "SyntaxError",
     "evalue": "invalid syntax (<ipython-input-17-c2598ace6de0>, line 1)",
     "output_type": "error",
     "traceback": [
      "\u001b[1;36m  File \u001b[1;32m\"<ipython-input-17-c2598ace6de0>\"\u001b[1;36m, line \u001b[1;32m1\u001b[0m\n\u001b[1;33m    ef is_power_of_two(n):\u001b[0m\n\u001b[1;37m                     ^\u001b[0m\n\u001b[1;31mSyntaxError\u001b[0m\u001b[1;31m:\u001b[0m invalid syntax\n"
     ]
    }
   ],
   "source": [
    "ef is_power_of_two(n):\n",
    "    \"\"\"Return True if n is a power of two.\"\"\"\n",
    "    if n <= 0:\n",
    "        return False\n",
    "    else:\n",
    "        return n & (n - 1) == 0\n",
    " \n",
    " \n",
    "n = int(input('Enter a number: '))\n",
    " \n",
    "if is_power_of_two(n):\n",
    "    print('{} is a power of two.'.format(n))\n",
    "else:\n",
    "    print('{} is not a power of two.'.format(n))"
   ]
  },
  {
   "cell_type": "code",
   "execution_count": null,
   "metadata": {},
   "outputs": [],
   "source": []
  },
  {
   "cell_type": "raw",
   "metadata": {},
   "source": [
    "A Fibonacci sequence is the integer sequence of 0, 1, 1, 2, 3, 5, 8....\n",
    "\n",
    "The first two terms are 0 and 1. All other terms are obtained by adding the preceding two terms. This means to say the nth term is the sum of (n-1)th and (n-2)th term."
   ]
  },
  {
   "cell_type": "code",
   "execution_count": 18,
   "metadata": {},
   "outputs": [
    {
     "name": "stdout",
     "output_type": "stream",
     "text": [
      "How many terms? 6\n",
      "Fibonacci sequence:\n",
      "0\n",
      "1\n",
      "1\n",
      "2\n",
      "3\n",
      "5\n"
     ]
    }
   ],
   "source": [
    "# Program to display the Fibonacci sequence up to n-th term\n",
    "\n",
    "nterms = int(input(\"How many terms? \"))\n",
    "\n",
    "# first two terms\n",
    "n1, n2 = 0, 1\n",
    "count = 0\n",
    "\n",
    "# check if the number of terms is valid\n",
    "if nterms <= 0:\n",
    "   print(\"Please enter a positive integer\")\n",
    "elif nterms == 1:\n",
    "   print(\"Fibonacci sequence upto\",nterms,\":\")\n",
    "   print(n1)\n",
    "else:\n",
    "   print(\"Fibonacci sequence:\")\n",
    "   while count < nterms:\n",
    "       print(n1)\n",
    "       nth = n1 + n2\n",
    "       # update values\n",
    "       n1 = n2\n",
    "       n2 = nth\n",
    "       count=count+1"
   ]
  },
  {
   "cell_type": "code",
   "execution_count": null,
   "metadata": {},
   "outputs": [],
   "source": []
  }
 ],
 "metadata": {
  "kernelspec": {
   "display_name": "Python 3",
   "language": "python",
   "name": "python3"
  },
  "language_info": {
   "codemirror_mode": {
    "name": "ipython",
    "version": 3
   },
   "file_extension": ".py",
   "mimetype": "text/x-python",
   "name": "python",
   "nbconvert_exporter": "python",
   "pygments_lexer": "ipython3",
   "version": "3.7.4"
  }
 },
 "nbformat": 4,
 "nbformat_minor": 2
}
